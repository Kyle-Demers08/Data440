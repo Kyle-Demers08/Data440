{
 "cells": [
  {
   "cell_type": "code",
   "execution_count": 1,
   "id": "d1750085-f99a-4ce8-aef7-edc847569c08",
   "metadata": {},
   "outputs": [],
   "source": [
    "import requests\n",
    "from bs4 import BeautifulSoup"
   ]
  },
  {
   "cell_type": "code",
   "execution_count": 6,
   "id": "37966302-9e3f-43d8-a2cb-8e4c35fa6538",
   "metadata": {},
   "outputs": [
    {
     "name": "stdout",
     "output_type": "stream",
     "text": [
      "http://twitter.com/webscidl\n",
      "https://doi.org/10.1108/IDD-05-2018-0014\n",
      "http://www.cs.odu.edu/~mln/pubs/ht-2018/hypertext-2018-nwala-bootstrapping.pdf\n",
      "http://www.cs.odu.edu/~mln/pubs/ipres-2018/ipres-2018-atkins-news-similarity.pdf\n",
      "https://arxiv.org/abs/1806.09082\n",
      "http://www.cs.odu.edu/~mln/pubs/ipres-2018/ipres-2018-jones-off-topic.pdf\n",
      "https://arxiv.org/abs/1806.06870\n",
      "http://www.cs.odu.edu/~mln/pubs/ipres-2018/ipres-2018-jones-archiveit.pdf\n",
      "https://arxiv.org/abs/1806.06878\n",
      "http://www.cs.odu.edu/~mln/pubs/jcdl-2018/jcdl-2018-nwala-scraping-serps-seeds.pdf\n",
      "http://arxiv.org/abs/1805.10260\n",
      "http://www.cs.odu.edu/~mln/pubs/jcdl-2018/jcdl-2018-kelly-private-public-web-archives.pdf\n",
      "https://arxiv.org/abs/1806.00871\n",
      "http://www.cs.odu.edu/~mln/pubs/jcdl-2018/jcdl-2018-aturban-archivenow.pdf\n",
      "http://www.cs.odu.edu/~mln/pubs/jcdl-2018/jcdl-2018-alam-archive-banner.pdf\n",
      "http://dx.doi.org/10.1007/s00799-016-0200-8\n"
     ]
    }
   ],
   "source": [
    "url = 'https://alexandernwala.com/files/teaching/fall-2022/week-2/2018_wsdl_publications.html'\n",
    "reqs = requests.get(url)\n",
    "soup = BeautifulSoup(reqs.text, 'html.parser')\n",
    "\n",
    "urls = []\n",
    "for link in soup.find_all('a'):\n",
    "    print(link.get('href'))"
   ]
  },
  {
   "cell_type": "code",
   "execution_count": 87,
   "id": "77db5efc-d3ff-45bb-9854-70f38cad8df9",
   "metadata": {},
   "outputs": [
    {
     "name": "stdout",
     "output_type": "stream",
     "text": [
      "['http://www.cs.odu.edu/~mln/pubs/ht-2018/hypertext-2018-nwala-bootstrapping.pdf', 'http://www.cs.odu.edu/~mln/pubs/ipres-2018/ipres-2018-atkins-news-similarity.pdf', 'http://www.cs.odu.edu/~mln/pubs/ipres-2018/ipres-2018-jones-off-topic.pdf', 'http://www.cs.odu.edu/~mln/pubs/ipres-2018/ipres-2018-jones-archiveit.pdf', 'http://www.cs.odu.edu/~mln/pubs/jcdl-2018/jcdl-2018-nwala-scraping-serps-seeds.pdf', 'http://www.cs.odu.edu/~mln/pubs/jcdl-2018/jcdl-2018-kelly-private-public-web-archives.pdf', 'http://www.cs.odu.edu/~mln/pubs/jcdl-2018/jcdl-2018-aturban-archivenow.pdf', 'http://www.cs.odu.edu/~mln/pubs/jcdl-2018/jcdl-2018-alam-archive-banner.pdf']\n"
     ]
    },
    {
     "data": {
      "text/plain": [
       "8"
      ]
     },
     "execution_count": 87,
     "metadata": {},
     "output_type": "execute_result"
    }
   ],
   "source": [
    "url = 'https://alexandernwala.com/files/teaching/fall-2022/week-2/2018_wsdl_publications.html'\n",
    "reqs = requests.get(url)\n",
    "soup = BeautifulSoup(reqs.text, 'html.parser')\n",
    "urls = []\n",
    "for link in soup.find_all('a'):\n",
    "    if link.get('href')[-4:] == '.pdf':\n",
    "        urls.append(link.get('href'))\n",
    "print(urls)\n",
    "len(urls)"
   ]
  },
  {
   "cell_type": "code",
   "execution_count": null,
   "id": "c665c96e-e476-4d42-ba13-c1c109c1e28a",
   "metadata": {},
   "outputs": [
    {
     "data": {
      "text/plain": [
       "'<'"
      ]
     },
     "execution_count": 21,
     "metadata": {},
     "output_type": "execute_result"
    }
   ],
   "source": [
    "link = str(link)\n",
    "link[-4]"
   ]
  },
  {
   "cell_type": "code",
   "execution_count": 25,
   "id": "2d4c95ca-1d0e-44f2-963a-40618724766b",
   "metadata": {},
   "outputs": [
    {
     "data": {
      "text/plain": [
       "'.pdf'"
      ]
     },
     "execution_count": 25,
     "metadata": {},
     "output_type": "execute_result"
    }
   ],
   "source": [
    "urls[2][-4:]"
   ]
  },
  {
   "cell_type": "code",
   "execution_count": 29,
   "id": "96856686-1cab-4b3e-adae-a560f574cbc3",
   "metadata": {},
   "outputs": [],
   "source": [
    "count = 0\n",
    "for link in soup.find_all('a'):\n",
    "    if link.get('href')[-4:] == '.pdf':\n",
    "        count += 1"
   ]
  },
  {
   "cell_type": "code",
   "execution_count": 30,
   "id": "3dc48417-b64e-45cf-99e0-dbafc5476f64",
   "metadata": {},
   "outputs": [
    {
     "data": {
      "text/plain": [
       "8"
      ]
     },
     "execution_count": 30,
     "metadata": {},
     "output_type": "execute_result"
    }
   ],
   "source": [
    "count"
   ]
  },
  {
   "cell_type": "code",
   "execution_count": 37,
   "id": "4fbddde2-3899-469f-a205-7f2e4d7e534e",
   "metadata": {},
   "outputs": [],
   "source": [
    "import requests\n",
    "from bs4 import BeautifulSoup\n",
    "def getpdf(url):\n",
    "    reqs = requests.get(url)\n",
    "    soup = BeautifulSoup(reqs.text, 'html.parser')\n",
    "    urls = []\n",
    "    for link in soup.find_all('a'):\n",
    "        if link.get('href')[-4:] == '.pdf':\n",
    "            urls.append(link.get('href'))\n",
    "    return(urls)"
   ]
  },
  {
   "cell_type": "code",
   "execution_count": 38,
   "id": "f62bb335-1306-4284-bbf0-824cdb9068bd",
   "metadata": {},
   "outputs": [
    {
     "data": {
      "text/plain": [
       "['http://www.cs.odu.edu/~mln/pubs/ht-2018/hypertext-2018-nwala-bootstrapping.pdf',\n",
       " 'http://www.cs.odu.edu/~mln/pubs/ipres-2018/ipres-2018-atkins-news-similarity.pdf',\n",
       " 'http://www.cs.odu.edu/~mln/pubs/ipres-2018/ipres-2018-jones-off-topic.pdf',\n",
       " 'http://www.cs.odu.edu/~mln/pubs/ipres-2018/ipres-2018-jones-archiveit.pdf',\n",
       " 'http://www.cs.odu.edu/~mln/pubs/jcdl-2018/jcdl-2018-nwala-scraping-serps-seeds.pdf',\n",
       " 'http://www.cs.odu.edu/~mln/pubs/jcdl-2018/jcdl-2018-kelly-private-public-web-archives.pdf',\n",
       " 'http://www.cs.odu.edu/~mln/pubs/jcdl-2018/jcdl-2018-aturban-archivenow.pdf',\n",
       " 'http://www.cs.odu.edu/~mln/pubs/jcdl-2018/jcdl-2018-alam-archive-banner.pdf']"
      ]
     },
     "execution_count": 38,
     "metadata": {},
     "output_type": "execute_result"
    }
   ],
   "source": [
    "urls"
   ]
  },
  {
   "cell_type": "code",
   "execution_count": 48,
   "id": "499f2cb1-0567-4e92-8d7a-2a8f1f1f7725",
   "metadata": {},
   "outputs": [
    {
     "name": "stdout",
     "output_type": "stream",
     "text": [
      "ok\n"
     ]
    }
   ],
   "source": [
    "r = requests.get(urls[0]).headers\n",
    "if r['content-Type'] == 'application/pdf':\n",
    "    print('ok')"
   ]
  },
  {
   "cell_type": "code",
   "execution_count": 69,
   "id": "9fd3a040-65bc-43dd-a049-17ba7ed2572d",
   "metadata": {},
   "outputs": [
    {
     "data": {
      "text/plain": [
       "'https://www.cs.odu.edu/~mln/pubs/ht-2018/hypertext-2018-nwala-bootstrapping.pdf'"
      ]
     },
     "execution_count": 69,
     "metadata": {},
     "output_type": "execute_result"
    }
   ],
   "source": [
    "requests.get('http://www.cs.odu.edu/~mln/pubs/ht-2018/hypertext-2018-nwala-bootstrapping.pdf').url"
   ]
  },
  {
   "cell_type": "code",
   "execution_count": 53,
   "id": "bee44167-6235-409e-aa5b-27ef64f6eef3",
   "metadata": {},
   "outputs": [],
   "source": [
    "import requests\n",
    "from bs4 import BeautifulSoup\n",
    "def getpdf(url):\n",
    "    reqs = requests.get(url)\n",
    "    soup = BeautifulSoup(reqs.text, 'html.parser')\n",
    "    urls = []\n",
    "    for link in soup.find_all('a'):\n",
    "        r = requests.get(link.get('href')).headers\n",
    "        if r['Content-Type'] == 'application/pdf':\n",
    "            print('ok')\n",
    "        else:\n",
    "            print('no')"
   ]
  },
  {
   "cell_type": "code",
   "execution_count": 70,
   "id": "ff3aa762-9aff-4980-8abb-adacae055638",
   "metadata": {},
   "outputs": [],
   "source": [
    "reqs = requests.get(url)\n",
    "soup = BeautifulSoup(reqs.text, 'html.parser')\n",
    "initial_uris = []\n",
    "final_uris = []\n",
    "for link in soup.find_all('a'):\n",
    "    r = requests.get(link.get('href')).headers\n",
    "    if r['Content-Type'] == 'application/pdf':\n",
    "        initial_uris.append(link.get('href'))"
   ]
  },
  {
   "cell_type": "code",
   "execution_count": 71,
   "id": "ff40a24d-7d69-485c-b583-d8e7bf7e482c",
   "metadata": {},
   "outputs": [
    {
     "data": {
      "text/plain": [
       "['http://www.cs.odu.edu/~mln/pubs/ht-2018/hypertext-2018-nwala-bootstrapping.pdf',\n",
       " 'http://www.cs.odu.edu/~mln/pubs/ipres-2018/ipres-2018-atkins-news-similarity.pdf',\n",
       " 'http://www.cs.odu.edu/~mln/pubs/ipres-2018/ipres-2018-jones-off-topic.pdf',\n",
       " 'http://www.cs.odu.edu/~mln/pubs/ipres-2018/ipres-2018-jones-archiveit.pdf',\n",
       " 'http://www.cs.odu.edu/~mln/pubs/jcdl-2018/jcdl-2018-nwala-scraping-serps-seeds.pdf',\n",
       " 'http://www.cs.odu.edu/~mln/pubs/jcdl-2018/jcdl-2018-kelly-private-public-web-archives.pdf',\n",
       " 'http://www.cs.odu.edu/~mln/pubs/jcdl-2018/jcdl-2018-aturban-archivenow.pdf',\n",
       " 'http://www.cs.odu.edu/~mln/pubs/jcdl-2018/jcdl-2018-alam-archive-banner.pdf']"
      ]
     },
     "execution_count": 71,
     "metadata": {},
     "output_type": "execute_result"
    }
   ],
   "source": [
    "initial_uris"
   ]
  },
  {
   "cell_type": "code",
   "execution_count": 49,
   "id": "8c5fbbec-c201-402d-82eb-28c641d5bdac",
   "metadata": {},
   "outputs": [],
   "source": [
    "def getPDFs(url):\n",
    "    reqs = requests.get(url)\n",
    "    soup = BeautifulSoup(reqs.text, 'html.parser')\n",
    "    initial_uris = []\n",
    "    final_uris = []\n",
    "    byte_size = []\n",
    "    for link in soup.find_all('a'):\n",
    "        if link.get('href')[0:4] != 'http': #make sure it is a link\n",
    "            pass\n",
    "        else:\n",
    "            r = requests.get(link.get('href')).headers #grab headers to get access to dictionary\n",
    "            if r['Content-Type'] == 'application/pdf': #check if it is a pdf\n",
    "                initial_uris.append(link.get('href')) #get initial website link\n",
    "                final_uris.append(requests.get(link.get('href')).url) #get the last redirect\n",
    "                byte_size.append(r['Content-Length']) #grab byte size\n",
    "                print(list(zip(initial_uris,final_uris,byte_size))) #zip together all information"
   ]
  },
  {
   "cell_type": "code",
   "execution_count": 3,
   "id": "b740c7d5-2709-41e3-8c62-bdc5718ca37c",
   "metadata": {},
   "outputs": [
    {
     "name": "stdout",
     "output_type": "stream",
     "text": [
      "[('http://www.cs.odu.edu/~mln/pubs/ht-2018/hypertext-2018-nwala-bootstrapping.pdf', 'https://www.cs.odu.edu/~mln/pubs/ht-2018/hypertext-2018-nwala-bootstrapping.pdf', '994153')]\n",
      "[('http://www.cs.odu.edu/~mln/pubs/ht-2018/hypertext-2018-nwala-bootstrapping.pdf', 'https://www.cs.odu.edu/~mln/pubs/ht-2018/hypertext-2018-nwala-bootstrapping.pdf', '994153'), ('http://www.cs.odu.edu/~mln/pubs/ipres-2018/ipres-2018-atkins-news-similarity.pdf', 'https://www.cs.odu.edu/~mln/pubs/ipres-2018/ipres-2018-atkins-news-similarity.pdf', '18995885')]\n",
      "[('http://www.cs.odu.edu/~mln/pubs/ht-2018/hypertext-2018-nwala-bootstrapping.pdf', 'https://www.cs.odu.edu/~mln/pubs/ht-2018/hypertext-2018-nwala-bootstrapping.pdf', '994153'), ('http://www.cs.odu.edu/~mln/pubs/ipres-2018/ipres-2018-atkins-news-similarity.pdf', 'https://www.cs.odu.edu/~mln/pubs/ipres-2018/ipres-2018-atkins-news-similarity.pdf', '18995885'), ('http://www.cs.odu.edu/~mln/pubs/ipres-2018/ipres-2018-jones-off-topic.pdf', 'https://www.cs.odu.edu/~mln/pubs/ipres-2018/ipres-2018-jones-off-topic.pdf', '3119205')]\n",
      "[('http://www.cs.odu.edu/~mln/pubs/ht-2018/hypertext-2018-nwala-bootstrapping.pdf', 'https://www.cs.odu.edu/~mln/pubs/ht-2018/hypertext-2018-nwala-bootstrapping.pdf', '994153'), ('http://www.cs.odu.edu/~mln/pubs/ipres-2018/ipres-2018-atkins-news-similarity.pdf', 'https://www.cs.odu.edu/~mln/pubs/ipres-2018/ipres-2018-atkins-news-similarity.pdf', '18995885'), ('http://www.cs.odu.edu/~mln/pubs/ipres-2018/ipres-2018-jones-off-topic.pdf', 'https://www.cs.odu.edu/~mln/pubs/ipres-2018/ipres-2018-jones-off-topic.pdf', '3119205'), ('http://www.cs.odu.edu/~mln/pubs/ipres-2018/ipres-2018-jones-archiveit.pdf', 'https://www.cs.odu.edu/~mln/pubs/ipres-2018/ipres-2018-jones-archiveit.pdf', '2639215')]\n",
      "[('http://www.cs.odu.edu/~mln/pubs/ht-2018/hypertext-2018-nwala-bootstrapping.pdf', 'https://www.cs.odu.edu/~mln/pubs/ht-2018/hypertext-2018-nwala-bootstrapping.pdf', '994153'), ('http://www.cs.odu.edu/~mln/pubs/ipres-2018/ipres-2018-atkins-news-similarity.pdf', 'https://www.cs.odu.edu/~mln/pubs/ipres-2018/ipres-2018-atkins-news-similarity.pdf', '18995885'), ('http://www.cs.odu.edu/~mln/pubs/ipres-2018/ipres-2018-jones-off-topic.pdf', 'https://www.cs.odu.edu/~mln/pubs/ipres-2018/ipres-2018-jones-off-topic.pdf', '3119205'), ('http://www.cs.odu.edu/~mln/pubs/ipres-2018/ipres-2018-jones-archiveit.pdf', 'https://www.cs.odu.edu/~mln/pubs/ipres-2018/ipres-2018-jones-archiveit.pdf', '2639215'), ('http://www.cs.odu.edu/~mln/pubs/jcdl-2018/jcdl-2018-nwala-scraping-serps-seeds.pdf', 'https://www.cs.odu.edu/~mln/pubs/jcdl-2018/jcdl-2018-nwala-scraping-serps-seeds.pdf', '2172494')]\n",
      "[('http://www.cs.odu.edu/~mln/pubs/ht-2018/hypertext-2018-nwala-bootstrapping.pdf', 'https://www.cs.odu.edu/~mln/pubs/ht-2018/hypertext-2018-nwala-bootstrapping.pdf', '994153'), ('http://www.cs.odu.edu/~mln/pubs/ipres-2018/ipres-2018-atkins-news-similarity.pdf', 'https://www.cs.odu.edu/~mln/pubs/ipres-2018/ipres-2018-atkins-news-similarity.pdf', '18995885'), ('http://www.cs.odu.edu/~mln/pubs/ipres-2018/ipres-2018-jones-off-topic.pdf', 'https://www.cs.odu.edu/~mln/pubs/ipres-2018/ipres-2018-jones-off-topic.pdf', '3119205'), ('http://www.cs.odu.edu/~mln/pubs/ipres-2018/ipres-2018-jones-archiveit.pdf', 'https://www.cs.odu.edu/~mln/pubs/ipres-2018/ipres-2018-jones-archiveit.pdf', '2639215'), ('http://www.cs.odu.edu/~mln/pubs/jcdl-2018/jcdl-2018-nwala-scraping-serps-seeds.pdf', 'https://www.cs.odu.edu/~mln/pubs/jcdl-2018/jcdl-2018-nwala-scraping-serps-seeds.pdf', '2172494'), ('http://www.cs.odu.edu/~mln/pubs/jcdl-2018/jcdl-2018-kelly-private-public-web-archives.pdf', 'https://www.cs.odu.edu/~mln/pubs/jcdl-2018/jcdl-2018-kelly-private-public-web-archives.pdf', '2553579')]\n",
      "[('http://www.cs.odu.edu/~mln/pubs/ht-2018/hypertext-2018-nwala-bootstrapping.pdf', 'https://www.cs.odu.edu/~mln/pubs/ht-2018/hypertext-2018-nwala-bootstrapping.pdf', '994153'), ('http://www.cs.odu.edu/~mln/pubs/ipres-2018/ipres-2018-atkins-news-similarity.pdf', 'https://www.cs.odu.edu/~mln/pubs/ipres-2018/ipres-2018-atkins-news-similarity.pdf', '18995885'), ('http://www.cs.odu.edu/~mln/pubs/ipres-2018/ipres-2018-jones-off-topic.pdf', 'https://www.cs.odu.edu/~mln/pubs/ipres-2018/ipres-2018-jones-off-topic.pdf', '3119205'), ('http://www.cs.odu.edu/~mln/pubs/ipres-2018/ipres-2018-jones-archiveit.pdf', 'https://www.cs.odu.edu/~mln/pubs/ipres-2018/ipres-2018-jones-archiveit.pdf', '2639215'), ('http://www.cs.odu.edu/~mln/pubs/jcdl-2018/jcdl-2018-nwala-scraping-serps-seeds.pdf', 'https://www.cs.odu.edu/~mln/pubs/jcdl-2018/jcdl-2018-nwala-scraping-serps-seeds.pdf', '2172494'), ('http://www.cs.odu.edu/~mln/pubs/jcdl-2018/jcdl-2018-kelly-private-public-web-archives.pdf', 'https://www.cs.odu.edu/~mln/pubs/jcdl-2018/jcdl-2018-kelly-private-public-web-archives.pdf', '2553579'), ('http://www.cs.odu.edu/~mln/pubs/jcdl-2018/jcdl-2018-aturban-archivenow.pdf', 'https://www.cs.odu.edu/~mln/pubs/jcdl-2018/jcdl-2018-aturban-archivenow.pdf', '3998654')]\n",
      "[('http://www.cs.odu.edu/~mln/pubs/ht-2018/hypertext-2018-nwala-bootstrapping.pdf', 'https://www.cs.odu.edu/~mln/pubs/ht-2018/hypertext-2018-nwala-bootstrapping.pdf', '994153'), ('http://www.cs.odu.edu/~mln/pubs/ipres-2018/ipres-2018-atkins-news-similarity.pdf', 'https://www.cs.odu.edu/~mln/pubs/ipres-2018/ipres-2018-atkins-news-similarity.pdf', '18995885'), ('http://www.cs.odu.edu/~mln/pubs/ipres-2018/ipres-2018-jones-off-topic.pdf', 'https://www.cs.odu.edu/~mln/pubs/ipres-2018/ipres-2018-jones-off-topic.pdf', '3119205'), ('http://www.cs.odu.edu/~mln/pubs/ipres-2018/ipres-2018-jones-archiveit.pdf', 'https://www.cs.odu.edu/~mln/pubs/ipres-2018/ipres-2018-jones-archiveit.pdf', '2639215'), ('http://www.cs.odu.edu/~mln/pubs/jcdl-2018/jcdl-2018-nwala-scraping-serps-seeds.pdf', 'https://www.cs.odu.edu/~mln/pubs/jcdl-2018/jcdl-2018-nwala-scraping-serps-seeds.pdf', '2172494'), ('http://www.cs.odu.edu/~mln/pubs/jcdl-2018/jcdl-2018-kelly-private-public-web-archives.pdf', 'https://www.cs.odu.edu/~mln/pubs/jcdl-2018/jcdl-2018-kelly-private-public-web-archives.pdf', '2553579'), ('http://www.cs.odu.edu/~mln/pubs/jcdl-2018/jcdl-2018-aturban-archivenow.pdf', 'https://www.cs.odu.edu/~mln/pubs/jcdl-2018/jcdl-2018-aturban-archivenow.pdf', '3998654'), ('http://www.cs.odu.edu/~mln/pubs/jcdl-2018/jcdl-2018-alam-archive-banner.pdf', 'https://www.cs.odu.edu/~mln/pubs/jcdl-2018/jcdl-2018-alam-archive-banner.pdf', '596000')]\n"
     ]
    }
   ],
   "source": [
    "getPDFs('https://alexandernwala.com/files/teaching/fall-2022/week-2/2018_wsdl_publications.html')"
   ]
  },
  {
   "cell_type": "code",
   "execution_count": 18,
   "id": "c3264274-0d65-4e69-a916-078c0d6a4488",
   "metadata": {},
   "outputs": [
    {
     "name": "stdout",
     "output_type": "stream",
     "text": [
      "[('https://arxiv.org/pdf/2106.03279.pdf', 'https://arxiv.org/pdf/2106.03279.pdf', '916930')]\n",
      "[('https://arxiv.org/pdf/2106.03279.pdf', 'https://arxiv.org/pdf/2106.03279.pdf', '916930'), ('https://arxiv.org/pdf/2006.11405.pdf', 'https://arxiv.org/pdf/2006.11405.pdf', '6795367')]\n"
     ]
    }
   ],
   "source": [
    "getPDFs('https://haipeng-chen.github.io/')"
   ]
  },
  {
   "cell_type": "code",
   "execution_count": null,
   "id": "7e71da2a-a606-48a6-9e90-fd85e8cbf939",
   "metadata": {},
   "outputs": [
    {
     "name": "stdout",
     "output_type": "stream",
     "text": [
      "[('https://wmit-pages-prod.s3.amazonaws.com/wp-content/uploads/sites/13/2018/09/29142201/Zhou_Vita.pdf', 'https://wmit-pages-prod.s3.amazonaws.com/wp-content/uploads/sites/13/2018/09/29142201/Zhou_Vita.pdf', '379069')]\n"
     ]
    }
   ],
   "source": [
    "getPDFs('https://gzhou.pages.wm.edu/')"
   ]
  },
  {
   "cell_type": "code",
   "execution_count": 16,
   "id": "0023dc71-c50e-4a7a-852f-cda0245b19f1",
   "metadata": {},
   "outputs": [
    {
     "name": "stdout",
     "output_type": "stream",
     "text": [
      "[('https://arxiv.org/pdf/2106.03279.pdf', 'https://arxiv.org/pdf/2106.03279.pdf', '916930')]\n",
      "[('https://arxiv.org/pdf/2106.03279.pdf', 'https://arxiv.org/pdf/2106.03279.pdf', '916930'), ('https://arxiv.org/pdf/2006.11405.pdf', 'https://arxiv.org/pdf/2006.11405.pdf', '6795367')]\n"
     ]
    }
   ],
   "source": [
    "reqs = requests.get('https://haipeng-chen.github.io/')\n",
    "soup = BeautifulSoup(reqs.text, 'html.parser')\n",
    "initial_uris = []\n",
    "final_uris = []\n",
    "byte_size = []\n",
    "for link in soup.find_all('a'):\n",
    "    if link.get('href')[0:4] != 'http': #make sure it is a link\n",
    "        pass\n",
    "    else:\n",
    "        r = requests.get(link.get('href')).headers #grab headers to get access to dictionary\n",
    "        if r['Content-Type'] == 'application/pdf': #check if it is a pdf\n",
    "            initial_uris.append(link.get('href')) #get initial website link\n",
    "            final_uris.append(requests.get(link.get('href')).url) #get the last redirect\n",
    "            byte_size.append(r['Content-Length']) #grab byte size\n",
    "            print(list(zip(initial_uris,final_uris,byte_size))) #zip together all information"
   ]
  },
  {
   "cell_type": "code",
   "execution_count": 13,
   "id": "1f83fac1-d133-4909-a320-8edef8ace5cd",
   "metadata": {},
   "outputs": [
    {
     "name": "stdout",
     "output_type": "stream",
     "text": [
      "https://www.geeksforgeeks.org/\n",
      "https://practice.geeksforgeeks.org/courses/geeks-classes-live?utm_source=gfg&utm_medium=Submenu&utm_campaign=courses-submenu\n",
      "https://practice.geeksforgeeks.org/courses/system-design-live?utm_source=gfg&utm_medium=Submenu&utm_campaign=courses-submenu\n",
      "https://practice.geeksforgeeks.org/courses/java-backend-live?utm_source=gfg&utm_medium=Submenu&utm_campaign=courses-submenu\n",
      "https://practice.geeksforgeeks.org/courses/full-stack-node?utm_source=gfg&utm_medium=Submenu&utm_campaign=courses-submenu\n",
      "https://practice.geeksforgeeks.org/courses/category/all?courseType=live&utm_source=gfg&utm_medium=Submenu&utm_campaign=courses-submenu\n",
      "https://practice.geeksforgeeks.org/courses/dsa-self-paced?utm_source=gfg&utm_medium=Submenu&utm_campaign=courses-submenu\n",
      "https://practice.geeksforgeeks.org/courses/SDE-theory?utm_source=gfg&utm_medium=Submenu&utm_campaign=courses-submenu\n",
      "https://practice.geeksforgeeks.org/courses/category/development?utm_source=gfg&utm_medium=Submenu&utm_campaign=courses-submenu\n",
      "https://practice.geeksforgeeks.org/courses/category/all?courseType=online&utm_source=gfg&utm_medium=Submenu&utm_campaign=courses-submenu\n",
      "https://practice.geeksforgeeks.org/courses/competitive-programming-live?utm_source=gfg&utm_medium=Submenu&utm_campaign=courses-submenu\n",
      "https://practice.geeksforgeeks.org/courses/gate-live-course?utm_source=gfg&utm_medium=Submenu&utm_campaign=courses-submenu\n",
      "https://practice.geeksforgeeks.org/courses/data-science-live?utm_source=gfg&utm_medium=Submenu&utm_campaign=courses-submenu\n",
      "https://practice.geeksforgeeks.org/courses/category/all?courseType=live&utm_source=gfg&utm_medium=Submenu&utm_campaign=courses-submenu\n",
      "https://practice.geeksforgeeks.org/courses/dsa-self-paced?utm_source=gfg&utm_medium=Submenu&utm_campaign=courses-submenu\n",
      "https://practice.geeksforgeeks.org/courses/complete-interview-preparation?utm_source=gfg&utm_medium=Submenu&utm_campaign=courses-submenu\n",
      "https://www.geeksforgeeks.org/a-freshers-guide-to-programming/\n",
      "https://practice.geeksforgeeks.org/courses/category/all?courseType=online&utm_source=gfg&utm_medium=Submenu&utm_campaign=courses-submenu\n",
      "https://practice.geeksforgeeks.org/courses/school-guide-course?utm_source=gfg&utm_medium=submenu&utm_campaign=courses-submenu\n",
      "https://practice.geeksforgeeks.org/courses/python-programming-course?utm_source=gfg&utm_medium=submenu&utm_campaign=courses-submenu\n",
      "https://practice.geeksforgeeks.org/courses/app-lab?utm_source=gfg&utm_medium=submenu&utm_campaign=courses-submenu\n",
      "https://practice.geeksforgeeks.org/courses/category/school?utm_source=gfg&utm_medium=submenu&utm_campaign=courses-submenu\n",
      "https://practice.geeksforgeeks.org/courses?utm_source=gfg&utm_medium=submenu&utm_campaign=courses-submenu\n",
      "https://www.geeksforgeeks.org/analysis-of-algorithms-set-1-asymptotic-analysis/?ref=ghm\n",
      "https://www.geeksforgeeks.org/analysis-of-algorithms-set-2-asymptotic-analysis/?ref=ghm\n",
      "https://www.geeksforgeeks.org/analysis-of-algorithms-set-3asymptotic-notations/?ref=ghm\n",
      "https://www.geeksforgeeks.org/analysis-of-algorithems-little-o-and-little-omega-notations/?ref=ghm\n",
      "https://www.geeksforgeeks.org/lower-and-upper-bound-theory/?ref=ghm\n",
      "https://www.geeksforgeeks.org/analysis-of-algorithms-set-4-analysis-of-loops/?ref=ghm\n",
      "https://www.geeksforgeeks.org/analysis-algorithm-set-4-master-method-solving-recurrences/?ref=ghm\n",
      "https://www.geeksforgeeks.org/analysis-algorithm-set-5-amortized-analysis-introduction/?ref=ghm\n",
      "https://www.geeksforgeeks.org/g-fact-86/?ref=ghm\n",
      "https://www.geeksforgeeks.org/pseudo-polynomial-in-algorithms/?ref=ghm\n",
      "https://www.geeksforgeeks.org/polynomial-time-approximation-scheme/?ref=ghm\n",
      "https://www.geeksforgeeks.org/a-time-complexity-question/?ref=ghm\n",
      "https://www.geeksforgeeks.org/searching-algorithms/?ref=ghm\n",
      "https://www.geeksforgeeks.org/sorting-algorithms/?ref=ghm\n",
      "https://www.geeksforgeeks.org/graph-data-structure-and-algorithms/?ref=ghm\n",
      "https://www.geeksforgeeks.org/algorithms-gq/pattern-searching/?ref=ghm\n",
      "https://www.geeksforgeeks.org/geometric-algorithms/?ref=ghm\n",
      "https://www.geeksforgeeks.org/mathematical-algorithms/?ref=ghm\n",
      "https://www.geeksforgeeks.org/bitwise-algorithms/?ref=ghm\n",
      "https://www.geeksforgeeks.org/randomized-algorithms/?ref=ghm\n",
      "https://www.geeksforgeeks.org/greedy-algorithms/?ref=ghm\n",
      "https://www.geeksforgeeks.org/dynamic-programming/?ref=ghm\n",
      "https://www.geeksforgeeks.org/divide-and-conquer/?ref=ghm\n",
      "https://www.geeksforgeeks.org/backtracking-algorithms/?ref=ghm\n",
      "https://www.geeksforgeeks.org/branch-and-bound-algorithm/?ref=ghm\n",
      "https://www.geeksforgeeks.org/fundamentals-of-algorithms/?ref=ghm\n",
      "https://www.geeksforgeeks.org/array-data-structure/?ref=ghm\n",
      "https://www.geeksforgeeks.org/data-structures/linked-list/?ref=ghm\n",
      "https://www.geeksforgeeks.org/stack-data-structure/?ref=ghm\n",
      "https://www.geeksforgeeks.org/queue-data-structure/?ref=ghm\n",
      "https://www.geeksforgeeks.org/binary-tree-data-structure/?ref=ghm\n",
      "https://www.geeksforgeeks.org/binary-search-tree-data-structure/?ref=ghm\n",
      "https://www.geeksforgeeks.org/heap-data-structure/?ref=ghm\n",
      "https://www.geeksforgeeks.org/hashing-data-structure/?ref=ghm\n",
      "https://www.geeksforgeeks.org/graph-data-structure-and-algorithms/?ref=ghm\n",
      "https://www.geeksforgeeks.org/advanced-data-structures/?ref=ghm\n",
      "https://www.geeksforgeeks.org/matrix/?ref=ghm\n",
      "https://www.geeksforgeeks.org/string-data-structure/?ref=ghm\n",
      "https://www.geeksforgeeks.org/data-structures/?ref=ghm\n",
      "https://www.geeksforgeeks.org/company-preparation/?ref=ghm\n",
      "https://www.geeksforgeeks.org/interview-preparation-for-software-developer/?ref=ghm\n",
      "https://practice.geeksforgeeks.org/company-tags/?ref=ghm\n",
      "https://www.geeksforgeeks.org/company-interview-corner/?ref=ghm\n",
      "https://www.geeksforgeeks.org/experienced-interview-experiences-company-wise/?ref=ghm\n",
      "https://www.geeksforgeeks.org/internship-interview-experiences-company-wise/?ref=ghm\n",
      "https://www.geeksforgeeks.org/competitive-programming-a-complete-guide/?ref=ghm\n",
      "https://www.geeksforgeeks.org/software-design-patterns/?ref=ghm\n",
      "https://www.geeksforgeeks.org/system-design-tutorial/\n",
      "https://www.geeksforgeeks.org/quiz-corner-gq/?ref=ghm\n",
      "https://www.geeksforgeeks.org/c-programming-language/?ref=ghm\n",
      "https://www.geeksforgeeks.org/c-plus-plus/?ref=ghm\n",
      "https://www.geeksforgeeks.org/java/?ref=ghm\n",
      "https://www.geeksforgeeks.org/python-programming-language/?ref=ghm\n",
      "https://www.geeksforgeeks.org/csharp-programming-language/?ref=ghm\n",
      "https://www.geeksforgeeks.org/html-tutorials/?ref=ghm\n",
      "https://www.geeksforgeeks.org/javascript-tutorial/?ref=ghm\n",
      "https://www.geeksforgeeks.org/php-tutorials/?ref=ghm\n",
      "https://www.geeksforgeeks.org/sql-tutorial/?ref=ghm\n",
      "https://www.geeksforgeeks.org/scala-programming-language/?ref=ghm\n",
      "https://www.geeksforgeeks.org/perl-programming-language/?ref=ghm\n",
      "https://www.geeksforgeeks.org/golang/?ref=ghm\n",
      "https://www.geeksforgeeks.org/kotlin-programming-language/?ref=ghm\n",
      "https://www.geeksforgeeks.org/machine-learning/?ref=ghm\n",
      "https://www.geeksforgeeks.org/data-science-tutorial/?ref=ghm\n",
      "https://www.geeksforgeeks.org/engineering-mathematics-tutorials/?ref=ghm\n",
      "https://www.geeksforgeeks.org/operating-systems/?ref=ghm\n",
      "https://www.geeksforgeeks.org/dbms/?ref=ghm\n",
      "https://www.geeksforgeeks.org/computer-network-tutorials/?ref=ghm\n",
      "https://www.geeksforgeeks.org/computer-organization-and-architecture-tutorials/?ref=ghm\n",
      "https://www.geeksforgeeks.org/theory-of-computation-automata-tutorials/?ref=ghm\n",
      "https://www.geeksforgeeks.org/compiler-design-tutorials/?ref=ghm\n",
      "https://www.geeksforgeeks.org/digital-electronics-logic-design-tutorials/#blg/?ref=ghm\n",
      "https://www.geeksforgeeks.org/software-engineering/?ref=ghm\n",
      "https://www.geeksforgeeks.org/gate-cs-notes-gq/?ref=ghm\n",
      "https://www.geeksforgeeks.org/lmns-gq/?ref=ghm\n",
      "https://www.geeksforgeeks.org/gate-corner-2-gq/?ref=ghm\n",
      "https://www.geeksforgeeks.org/original-gate-previous-year-question-papers-cse-and-it-gq/?ref=ghm\n",
      "https://www.geeksforgeeks.org/gate-cs-2021-official-important-dates/?ref=ghm\n",
      "https://www.geeksforgeeks.org/gate-cs-2021-revised-syllabus/?ref=ghm\n",
      "https://www.geeksforgeeks.org/important-topics-prepare-gate-2020-computer-science-paper/?ref=ghm\n",
      "https://www.geeksforgeeks.org/html-tutorials/?ref=ghm\n",
      "https://www.geeksforgeeks.org/css-tutorials/?ref=ghm\n",
      "https://www.geeksforgeeks.org/javascript-tutorial/?ref=ghm\n",
      "https://www.geeksforgeeks.org/php-tutorials/?ref=ghm\n",
      "https://www.geeksforgeeks.org/bootstrap/?ref=ghm\n",
      "https://www.geeksforgeeks.org/tailwind-css/?ref=ghm\n",
      "https://www.geeksforgeeks.org/foundation/?ref=ghm\n",
      "https://www.geeksforgeeks.org/materialize-css/?ref=ghm\n",
      "https://www.geeksforgeeks.org/bulma/?ref=ghm\n",
      "https://www.geeksforgeeks.org/pure-css/?ref=ghm\n",
      "https://www.geeksforgeeks.org/primer-css/ref=ghm\n",
      "https://www.geeksforgeeks.org/blaze-ui/ref=ghm\n",
      "https://www.geeksforgeeks.org/semantic-ui/ref=ghm\n",
      "https://www.geeksforgeeks.org/angularjs/?ref=ghm\n",
      "https://www.geeksforgeeks.org/nodejs/?ref=ghm\n",
      "https://www.geeksforgeeks.org/jquery-tutorials/?ref=ghm\n",
      "https://www.geeksforgeeks.org/reactjs-tutorials/?ref=ghm\n",
      "https://www.geeksforgeeks.org/software-design-patterns/?ref=ghm\n",
      "https://www.geeksforgeeks.org/system-design-tutorial/?ref=ghm\n",
      "https://www.geeksforgeeks.org/html-cheat-sheet-a-basic-guide-to-html/?ref=ghm\n",
      "https://www.geeksforgeeks.org/css-cheat-sheet-a-basic-guide-to-css/?ref=ghm\n",
      "https://www.geeksforgeeks.org/javascript-cheat-sheet-a-basic-guide-to-javascript/?ref=ghm\n",
      "https://www.geeksforgeeks.org/jquery-cheat-sheet-a-basic-guide-to-jquery/?ref=ghm\n",
      "https://www.geeksforgeeks.org/facebookmeta-sde-sheet-a-guide-for-facebook-interview-preparation/?ref=ghm\n",
      "https://www.geeksforgeeks.org/amazon-sde-sheet-a-guide-for-amazon-sde-interview-preparation/?ref=ghm\n",
      "https://www.geeksforgeeks.org/apple-sde-sheet-a-guide-for-apple-interview-preparation/?ref=ghm\n",
      "https://www.geeksforgeeks.org/netflix-sde-sheet-interview-questions-and-answers/?ref=ghm\n",
      "https://www.geeksforgeeks.org/google-sde-sheet-a-guide-for-google-interview-preparation/?ref=ghm\n",
      "https://www.geeksforgeeks.org/wipro-coding-sheet-interview-preparation/?ref=ghm\n",
      "https://www.geeksforgeeks.org/infosys-coding-sheet-interview-preparation/?ref=ghm\n",
      "https://www.geeksforgeeks.org/tcs-nqt-coding-sheet-exam-preparation/?ref=ghm\n",
      "https://www.geeksforgeeks.org/cognizant-coding-sheet-interview-preparation/?ref=ghm\n",
      "https://www.geeksforgeeks.org/hcl-coding-sheet-interview-preparation/?ref=ghm\n",
      "https://www.geeksforgeeks.org/sde-sheet-a-complete-guide-for-sde-preparation/?ref=ghm\n",
      "https://www.geeksforgeeks.org/must-do-coding-questions-for-companies-like-amazon-microsoft-adobe/?ref=ghm\n",
      "https://www.geeksforgeeks.org/dsa-sheet-by-love-babbar/?ref=ghm\n",
      "https://www.geeksforgeeks.org/must-do-questions-for-companies-like-tcs-cts-hcl-ibm/?ref=ghm\n",
      "https://www.geeksforgeeks.org/must-do-coding-questions-for-product-based-companies/?ref=ghm\n",
      "https://www.geeksforgeeks.org/must-coding-questions-company-wise/?ref=ghm\n",
      "https://www.geeksforgeeks.org/top-50-array-coding-problems-for-interviews/?ref=ghm\n",
      "https://www.geeksforgeeks.org/top-50-string-coding-problems-for-interviews/?ref=ghm\n",
      "https://www.geeksforgeeks.org/top-50-tree-coding-problems-for-interviews/?ref=ghm\n",
      "https://www.geeksforgeeks.org/top-50-graph-coding-problems-for-interviews/?ref=ghm\n",
      "https://www.geeksforgeeks.org/top-50-dynamic-programming-coding-problems-for-interviews/?ref=ghm\n",
      "https://www.geeksforgeeks.org/school-learning/?ref=ghm\n",
      "https://www.geeksforgeeks.org/number-system-and-arithmetic/?ref=ghm\n",
      "https://www.geeksforgeeks.org/algebra/?ref=ghm\n",
      "https://www.geeksforgeeks.org/trigonometry/?ref=ghm\n",
      "https://www.geeksforgeeks.org/statistics/?ref=ghm\n",
      "https://www.geeksforgeeks.org/probability-in-maths/?ref=ghm\n",
      "https://www.geeksforgeeks.org/geometry/?ref=ghm\n",
      "https://www.geeksforgeeks.org/mensuration/?ref=ghm\n",
      "https://www.geeksforgeeks.org/calculus/?ref=ghm\n",
      "https://www.geeksforgeeks.org/cbse-class-8-maths-notes/?ref=ghm\n",
      "https://www.geeksforgeeks.org/cbse-class-9-maths-notes/?ref=ghm\n",
      "https://www.geeksforgeeks.org/cbse-class-10-maths-notes/?ref=ghm\n",
      "https://www.geeksforgeeks.org/cbse-class-11-maths-notes/?ref=ghm\n",
      "https://www.geeksforgeeks.org/cbse-class-12-maths-notes/?ref=ghm\n",
      "https://www.geeksforgeeks.org/ncert-solutions-for-class-8-maths/?ref=ghm\n",
      "https://www.geeksforgeeks.org/ncert-solutions-for-class-9-maths/?ref=ghm\n",
      "https://www.geeksforgeeks.org/ncert-solutions-for-class-10-maths/?ref=ghm\n",
      "https://www.geeksforgeeks.org/ncert-solutions-for-class-11-maths/?ref=ghm\n",
      "https://www.geeksforgeeks.org/ncert-solutions-for-class-12-maths/?ref=ghm\n",
      "https://www.geeksforgeeks.org/rd-sharma-class-8-solutions-for-maths/?ref=ghm\n",
      "https://www.geeksforgeeks.org/rd-sharma-class-9-solutions/?ref=ghm\n",
      "https://www.geeksforgeeks.org/rd-sharma-class-10-solutions/?ref=ghm\n",
      "https://www.geeksforgeeks.org/rd-sharma-class-11-solutions-for-maths/?ref=ghm\n",
      "https://www.geeksforgeeks.org/rd-sharma-class-12-solutions-for-maths/?ref=ghm\n",
      "https://www.geeksforgeeks.org/cbse-physics-class-8-notes/?ref=ghm\n",
      "https://www.geeksforgeeks.org/cbse-class-9-physics-notes/?ref=ghm\n",
      "https://www.geeksforgeeks.org/cbse-notes-for-class-10-physics/?ref=ghm\n",
      "https://www.geeksforgeeks.org/cbse-class-11-physics-notes/?ref=ghm\n",
      "https://www.geeksforgeeks.org/cbse-class-8-chemistry-notes/?ref=ghm\n",
      "https://www.geeksforgeeks.org/cbse-class-9-chemistry-notes/?ref=ghm\n",
      "https://www.geeksforgeeks.org/cbse-class-10-chemistry-notes/?ref=ghm\n",
      "https://www.geeksforgeeks.org/isro-original-papers-official-keys/?ref=ghm\n",
      "https://www.geeksforgeeks.org/isro-cs-preparation/?ref=ghm\n",
      "https://www.geeksforgeeks.org/isro-cse-syllabus-scientistengineer-exam-2018/?ref=ghm\n",
      "https://www.geeksforgeeks.org/ugc-net-cs-notes-according-to-syllabus-of-paper-ii/?ref=ghm\n",
      "https://www.geeksforgeeks.org/ugc-net-cs-notes-according-to-syllabus-of-paper-iii-core-group/?ref=ghm\n",
      "https://www.geeksforgeeks.org/ugc-net-cs-preparation/?ref=ghm\n",
      "https://www.geeksforgeeks.org/campus-ambassador-program-by-geeksforgeeks/?ref=ghm\n",
      "https://www.geeksforgeeks.org/school-ambassador/?ref=ghm\n",
      "https://www.geeksforgeeks.org/computer-science-projects/?ref=ghm\n",
      "https://www.geeksforgeeks.org/geek-of-the-month/?ref=ghm\n",
      "https://www.geeksforgeeks.org/campus-geek-of-the-month/?ref=ghm\n",
      "https://www.geeksforgeeks.org/placements-gq/?ref=ghm\n",
      "https://www.geeksforgeeks.org/competitive-programming-a-complete-guide/?ref=ghm\n",
      "https://www.geeksforgeeks.org/testimonials/?ref=ghm\n",
      "https://www.geeksforgeeks.org/geeksforgeeks-student-chapter/?ref=ghm\n",
      "https://www.geeksforgeeks.org/category/geek-on-the-top/?ref=ghm\n",
      "https://www.geeksforgeeks.org/internship/?ref=ghm\n",
      "https://www.geeksforgeeks.org/careers/?ref=ghm\n",
      "https://practice.geeksforgeeks.org/jobs/?ref=ghm\n",
      "https://www.geeksforgeeks.org/hire-with-us/?ref=ghm\n",
      "https://www.geeksforgeeks.org/geeksforgeeks-job-a-thon/?ref=ghm\n",
      "https://practice.geeksforgeeks.org/events/rec/job-a-thon/?ref=ghm\n",
      "https://practice.geeksforgeeks.org/explore?page=1&sortBy=submissions&utm_source=gfg&utm_medium=gfg_header&utm_campaign=gfgpractice_header\n",
      "https://practice.geeksforgeeks.org/problem-of-the-day?utm_source=gfg&utm_medium=gfg_header&utm_campaign=gfgpractice_header\n",
      "https://practice.geeksforgeeks.org/events/rec/interview-series?utm_source=gfg&utm_medium=gfg_header&utm_campaign=gfgpractice_header\n",
      "https://practice.geeksforgeeks.org/events/rec/step-up-coding-school?utm_source=gfg&utm_medium=gfg_header&utm_campaign=gfgpractice_header\n",
      "https://practice.geeksforgeeks.org/events?utm_source=gfg&utm_medium=gfg_header&utm_campaign=gfgpractice_header\n",
      "https://practice.geeksforgeeks.org/explore?page=1&curated[]=1&sortBy=submissions&utm_source=gfg&utm_medium=gfg_header&utm_campaign=gfgpractice_header\n",
      "https://practice.geeksforgeeks.org/explore?page=1&curated[]=2&sortBy=submissions&utm_source=gfg&utm_medium=gfg_header&utm_campaign=gfgpractice_header\n",
      "https://practice.geeksforgeeks.org/explore?page=1&curated[]=3&sortBy=submissions&utm_source=gfg&utm_medium=gfg_header&utm_campaign=gfgpractice_header\n",
      "https://practice.geeksforgeeks.org/explore?page=1&curated[]=6&sortBy=submissions&utm_source=gfg&utm_medium=gfg_header&utm_campaign=gfgpractice_header\n",
      "https://practice.geeksforgeeks.org/explore?page=1&curated[]=5&sortBy=submissions&utm_source=gfg&utm_medium=gfg_header&utm_campaign=gfgpractice_header\n",
      "https://practice.geeksforgeeks.org/explore?page=1&curated[]=4&sortBy=submissions&utm_source=gfg&utm_medium=gfg_header&utm_campaign=gfgpractice_header\n",
      "https://practice.geeksforgeeks.org/events?utm_source=gfg&utm_medium=gfg_header&utm_campaign=gfgcontest_header\n",
      "https://write.geeksforgeeks.org/?ref=ndm\n",
      "https://practice.geeksforgeeks.org/?ref=ndm\n",
      "https://premium.geeksforgeeks.org/premium-plans/?ref=ndm\n",
      "https://practice.geeksforgeeks.org/jobs/?ref=ndm\n",
      "https://www.geeksforgeeks.org/geeks-digest/?ref=ndm\n",
      "https://www.geeksforgeeks.org/quiz-corner-gq/?ref=ndm\n",
      "https://practice.geeksforgeeks.org/geeks-campus/?ref=ndm\n",
      "https://www.geeksforgeeks.org/category/guestblogs/?ref=ndm\n",
      "https://ide.geeksforgeeks.org/?ref=ndm\n",
      "https://www.geeksforgeeks.org/campus-ambassador-program-by-geeksforgeeks/?ref=ndm\n",
      "https://www.geeksforgeeks.org/?ref=ghm\n",
      "https://www.geeksforgeeks.org/videos/watchlist/?ref=ghm\n",
      "https://practice.geeksforgeeks.org/?ref=ghm\n",
      "https://www.geeksforgeeks.org/category/guestblogs/?ref=ghm\n",
      "https://www.geeksforgeeks.org/puzzles/?ref=ghm\n",
      "https://www.geeksforgeeks.org/geeks-classes-geeksforgeeks/?ref=ghm\n",
      "https://www.geeksforgeeks.org/data-structures/?ref=shm\n",
      "https://www.geeksforgeeks.org/fundamentals-of-algorithms/?ref=shm\n",
      "https://practice.geeksforgeeks.org/courses/complete-interview-preparation?utm_source=GfG&utm_medium=Home&utm_campaign=CIP_Submenu\n",
      "https://practice.geeksforgeeks.org/explore?page=1&sortBy=submissions\n",
      "https://www.geeksforgeeks.org/c-plus-plus/?ref=shm\n",
      "https://www.geeksforgeeks.org/java/?ref=shm\n",
      "https://www.geeksforgeeks.org/python-programming-language/?ref=shm\n",
      "https://www.geeksforgeeks.org/competitive-programming-a-complete-guide/?ref=shm\n",
      "https://www.geeksforgeeks.org/machine-learning/?ref=shm\n",
      "https://www.geeksforgeeks.org/javascript/?ref=shm\n",
      "https://www.geeksforgeeks.org/gfg-sde-sheet-a-complete-guide-for-sde-preparation/?ref=ghb\n",
      "https://www.geeksforgeeks.org/puzzles/?ref=shm\n",
      "https://www.geeksforgeeks.org/school-learning/?ref=shm\n",
      "https://www.geeksforgeeks.org/computer-science-projects/?ref=gcs\n",
      "https://www.geeksforgeeks.org/master-the-coding-interview-contest-series-based-on-real-interviews/?ref=ghb\n",
      "https://www.geeksforgeeks.org/category/guestblogs/\n",
      "https://www.geeksforgeeks.org/master-the-coding-interview-contest-series-based-on-real-interviews/?ref=ghb\n",
      "https://www.geeksforgeeks.org/master-the-coding-interview-contest-series-based-on-real-interviews/\n",
      "https://www.geeksforgeeks.org/bootstrap-cheatsheet-a-basic-guide-to-bootstrap/\n",
      "https://www.geeksforgeeks.org/bootstrap-cheatsheet-a-basic-guide-to-bootstrap/\n",
      "https://www.geeksforgeeks.org/tag/bootstrap-4/\n",
      "https://www.geeksforgeeks.org/tag/bootstrap-5/\n",
      "https://www.geeksforgeeks.org/tag/bootstrap-misc/\n",
      "https://www.geeksforgeeks.org/tag/gfg-sheets/\n",
      "https://www.geeksforgeeks.org/category/web-technologies/bootstrap/\n",
      "https://www.geeksforgeeks.org/category/guestblogs/\n",
      "https://www.geeksforgeeks.org/category/web-technologies/\n",
      "https://www.geeksforgeeks.org/what-is-github-star-program/\n",
      "https://www.geeksforgeeks.org/expert/\n",
      "https://www.geeksforgeeks.org/what-is-github-star-program/\n",
      "https://www.geeksforgeeks.org/tag/github/\n",
      "https://www.geeksforgeeks.org/category/guestblogs/\n",
      "https://www.geeksforgeeks.org/category/git/\n",
      "https://www.geeksforgeeks.org/videos/\n",
      "https://www.geeksforgeeks.org/videos/top-8-skills-required-to-become-a-data-scientist-in-2022/\n",
      "https://www.geeksforgeeks.org/videos/c-program-to-find-normal-and-trace-of-a-matrix/\n",
      "https://www.geeksforgeeks.org/videos/cpp-program-to-remove-the-leading-zeros/\n",
      "https://www.geeksforgeeks.org/videos/scatter-plot-in-matplotlib/\n",
      "https://www.geeksforgeeks.org/videos/the-ultimate-introduction-to-pygame/\n",
      "https://www.geeksforgeeks.org/videos/python-program-to-print-odd-numbers-in-a-list/\n",
      "https://www.geeksforgeeks.org/videos/weiler-atherton-polygon-clipping-algorithm-in-computer-graphics/\n",
      "https://www.geeksforgeeks.org/videos/cpp-program-to-find-the-perimeter-and-area-of-triangle/\n",
      "https://www.geeksforgeeks.org/videos/spring-dependency-injection-with-example/\n",
      "https://www.geeksforgeeks.org/videos/cpp-program-to-return-maximum-occurring-character-in-an-input-string/\n",
      "https://www.geeksforgeeks.org/amazon-interview-experience-17/\n",
      "https://www.geeksforgeeks.org/expert/\n",
      "https://www.geeksforgeeks.org/amazon-interview-experience-17/\n",
      "https://www.geeksforgeeks.org/tag/amazon/\n",
      "https://www.geeksforgeeks.org/category/interview-experiences/\n",
      "https://www.geeksforgeeks.org/fidelity-interview-experience/\n",
      "https://www.geeksforgeeks.org/fidelity-interview-experience/\n",
      "https://www.geeksforgeeks.org/tag/fidelity-investments/\n",
      "https://www.geeksforgeeks.org/category/interview-experiences/\n",
      "https://www.geeksforgeeks.org/nokia-interview-experience-on-campus-3/\n",
      "https://www.geeksforgeeks.org/nokia-interview-experience-on-campus-3/\n",
      "https://www.geeksforgeeks.org/tag/nokia/\n",
      "https://www.geeksforgeeks.org/tag/on-campus/\n",
      "https://www.geeksforgeeks.org/category/interview-experiences/\n",
      "https://www.geeksforgeeks.org/visa-inc-interview-experience-on-campus-2022-2/\n",
      "https://www.geeksforgeeks.org/hard/\n",
      "https://www.geeksforgeeks.org/visa-inc-interview-experience-on-campus-2022-2/\n",
      "https://www.geeksforgeeks.org/tag/on-campus/\n",
      "https://www.geeksforgeeks.org/tag/visa/\n",
      "https://www.geeksforgeeks.org/category/interview-experiences/\n",
      "https://www.geeksforgeeks.org/bny-mellon-interview-experience-for-sde-2023/\n",
      "https://www.geeksforgeeks.org/bny-mellon-interview-experience-for-sde-2023/\n",
      "https://www.geeksforgeeks.org/tag/bny-mellon/\n",
      "https://www.geeksforgeeks.org/category/interview-experiences/\n",
      "https://www.geeksforgeeks.org/zenon-interview-experience-for-sde-on-campus-2022/\n",
      "https://www.geeksforgeeks.org/zenon-interview-experience-for-sde-on-campus-2022/\n",
      "https://www.geeksforgeeks.org/tag/on-campus/\n",
      "https://www.geeksforgeeks.org/category/interview-experiences/\n",
      "https://www.geeksforgeeks.org/microsoft-interview-experience-for-swe-internship/\n",
      "https://www.geeksforgeeks.org/microsoft-interview-experience-for-swe-internship/\n",
      "https://www.geeksforgeeks.org/tag/microsoft/\n",
      "https://www.geeksforgeeks.org/category/interview-experiences/internship-interview-experiences/\n",
      "https://www.geeksforgeeks.org/category/interview-experiences/\n",
      "https://practice.geeksforgeeks.org/events/?ref=grb\n",
      "https://practice.geeksforgeeks.org/courses/?ref=grb\n",
      "https://write.geeksforgeeks.org/?ref=grb\n",
      "https://www.geeksforgeeks.org/java/?ref=grb\n",
      "https://www.geeksforgeeks.org/python-programming-language/?ref=grb\n",
      "https://www.geeksforgeeks.org/data-structures/?ref=grb\n",
      "https://practice.geeksforgeeks.org/explore/?ref=grb\n",
      "https://www.geeksforgeeks.org/cognizant-genc-elevate-interview-experience-3/\n",
      "https://www.geeksforgeeks.org/cognizant-genc-elevate-interview-experience-3/\n",
      "https://www.geeksforgeeks.org/tag/cognizant/\n",
      "https://www.geeksforgeeks.org/category/interview-experiences/\n",
      "https://www.geeksforgeeks.org/infosys-interview-experience-for-dse-on-campus-2022/\n",
      "https://www.geeksforgeeks.org/easy/\n",
      "https://www.geeksforgeeks.org/infosys-interview-experience-for-dse-on-campus-2022/\n",
      "https://www.geeksforgeeks.org/tag/infosys/\n",
      "https://www.geeksforgeeks.org/tag/on-campus/\n",
      "https://www.geeksforgeeks.org/category/interview-experiences/\n",
      "https://www.geeksforgeeks.org/barclays-interview-experience-for-graduate-analyst/\n",
      "https://www.geeksforgeeks.org/barclays-interview-experience-for-graduate-analyst/\n",
      "https://www.geeksforgeeks.org/tag/barclays/\n",
      "https://www.geeksforgeeks.org/category/interview-experiences/\n",
      "https://www.geeksforgeeks.org/loan-approval-prediction-using-machine-learning/\n",
      "https://www.geeksforgeeks.org/loan-approval-prediction-using-machine-learning/\n",
      "https://www.geeksforgeeks.org/tag/machine-learning-projects/\n",
      "https://www.geeksforgeeks.org/tag/python-projects/\n",
      "https://www.geeksforgeeks.org/category/machine-learning/\n",
      "https://www.geeksforgeeks.org/category/programming-language/python/\n",
      "https://www.geeksforgeeks.org/cart-classification-and-regression-tree-in-machine-learning/\n",
      "https://www.geeksforgeeks.org/cart-classification-and-regression-tree-in-machine-learning/\n",
      "https://www.geeksforgeeks.org/tag/ml-classification/\n",
      "https://www.geeksforgeeks.org/tag/ml-regression/\n",
      "https://www.geeksforgeeks.org/category/machine-learning/\n",
      "https://www.geeksforgeeks.org/build-the-model-for-fashion-mnist-dataset-using-tensorflow-in-python/\n",
      "https://www.geeksforgeeks.org/build-the-model-for-fashion-mnist-dataset-using-tensorflow-in-python/\n",
      "https://www.geeksforgeeks.org/tag/picked/\n",
      "https://www.geeksforgeeks.org/tag/python-tensorflow/\n",
      "https://www.geeksforgeeks.org/category/programming-language/python/\n",
      "https://www.geeksforgeeks.org/maximize-x-such-that-array-can-be-sorted-by-swapping-characters-x-distance-apart/\n",
      "https://www.geeksforgeeks.org/maximize-x-such-that-array-can-be-sorted-by-swapping-characters-x-distance-apart/\n",
      "https://www.geeksforgeeks.org/tag/gcd-lcm/\n",
      "https://www.geeksforgeeks.org/category/data-structures/c-arrays/\n",
      "https://www.geeksforgeeks.org/category/algorithm/mathematical/\n",
      "https://www.geeksforgeeks.org/category/algorithm/sorting/\n",
      "https://www.geeksforgeeks.org/maximize-the-value-of-ai-ajak-for-any-ordered-triplet-of-indices-i-j-and-k/\n",
      "https://www.geeksforgeeks.org/maximize-the-value-of-ai-ajak-for-any-ordered-triplet-of-indices-i-j-and-k/\n",
      "https://www.geeksforgeeks.org/category/data-structures/c-arrays/\n",
      "https://www.geeksforgeeks.org/category/algorithm/mathematical/\n",
      "https://www.geeksforgeeks.org/page/2/\n",
      "https://www.geeksforgeeks.org/page/3/\n",
      "https://www.geeksforgeeks.org/page/4/\n",
      "https://www.geeksforgeeks.org/page/5/\n",
      "https://www.geeksforgeeks.org/page/10/\n",
      "https://www.geeksforgeeks.org/page/20/\n",
      "https://www.geeksforgeeks.org/page/30/\n",
      "https://www.geeksforgeeks.org/page/2/\n",
      "https://www.geeksforgeeks.org/page/8528/\n",
      "https://practice.geeksforgeeks.org/courses/dsa-self-paced?utm_source=right-bar&utm_medium=gfg&utm_campaign=dsa&utm_term=dsa\n",
      "https://practice.geeksforgeeks.org/courses/complete-interview-preparation?utm_source=right-bar&utm_medium=gfg&utm_campaign=dsa&utm_term=dsa\n",
      "https://practice.geeksforgeeks.org/explore?page=1&curated[]=1&sortBy=submissions&utm_source=gfg&utm_medium=right-bar&utm_campaign=practice_problems\n",
      "https://practice.geeksforgeeks.org/events/?ref=grb\n",
      "https://practice.geeksforgeeks.org/courses/?ref=grb\n",
      "https://write.geeksforgeeks.org/?ref=grb\n",
      "https://www.geeksforgeeks.org/java/?ref=grb\n",
      "https://www.geeksforgeeks.org/python-programming-language/?ref=grb\n",
      "https://www.geeksforgeeks.org/data-structures/?ref=grb\n",
      "https://practice.geeksforgeeks.org/explore/?ref=grb\n",
      "https://www.geeksforgeeks.org/featured-articles\n",
      "https://www.geeksforgeeks.org/sde-sheet-a-complete-guide-for-sde-preparation/?ref=grb\n",
      "https://www.geeksforgeeks.org/100-days-of-code-a-complete-guide-for-beginners-and-experienced/?ref=grb\n",
      "https://www.geeksforgeeks.org/must-do-coding-questions-for-product-based-companies/?ref=grb\n",
      "https://www.geeksforgeeks.org/get-hired-with-geeksforgeeks-gfg-job-portal/?ref=grb\n",
      "https://www.geeksforgeeks.org/learn-with-geeksforgeeks-course-best-courses-to-land-job-in-your-dream-company/?ref=grb\n",
      "https://www.geeksforgeeks.org/category/guestblogs/?ref=grb\n",
      "https://www.geeksforgeeks.org/must-coding-questions-company-wise/?ref=grb\n",
      "https://www.geeksforgeeks.org/practice-for-cracking-any-coding-interview/?ref=grb\n",
      "https://www.geeksforgeeks.org/placements-gq/?ref=grb\n",
      "https://practice.geeksforgeeks.org/courses/cip-da/?ref=grb\n",
      "https://www.geeksforgeeks.org/gate-cs-notes-gq/?ref=grb\n",
      "https://www.geeksforgeeks.org/machine-learning/?ref=grb\n",
      "https://www.geeksforgeeks.org/django-tutorial/?ref=grb\n",
      "https://www.geeksforgeeks.org/computer-science-projects/?ref=grb\n",
      "https://practice.geeksforgeeks.org/courses/Amazon-Test-Series/?ref=grb\n",
      "https://www.geeksforgeeks.org/company-interview-corner/?ref=grb\n",
      "https://www.geeksforgeeks.org/the-c-standard-template-library-stl/?ref=grb\n",
      "https://www.geeksforgeeks.org/software-design-patterns/?ref=grb\n",
      "https://www.geeksforgeeks.org/sql-tutorial/?ref=grb\n",
      "https://www.geeksforgeeks.org/advanced-data-structures/?ref=grb\n",
      "https://practice.geeksforgeeks.org/explore?page=1&sortBy=submissions&utm_source=gfg&utm_medium=search-bar&utm_campaign=practice-search\n",
      "https://www.geeksforgeeks.org/\n",
      "https://www.facebook.com/geeksforgeeks.org/\n",
      "https://www.instagram.com/geeks_for_geeks/\n",
      "https://in.linkedin.com/company/geeksforgeeks\n",
      "https://twitter.com/geeksforgeeks\n",
      "https://www.youtube.com/geeksforgeeksvideos\n",
      "https://play.google.com/store/apps/details?id=free.programming.programming\n",
      "https://www.geeksforgeeks.org/about/?ref=footer\n",
      "https://geeksforgeeks.zohorecruit.in/careers\n",
      "https://www.geeksforgeeks.org/press-release/?ref=footer\n",
      "https://www.geeksforgeeks.org/about/contact-us/?ref=footer\n",
      "https://www.geeksforgeeks.org/privacy-policy/?ref=footer\n",
      "https://www.geeksforgeeks.org/copyright-information/?ref=footer\n",
      "https://www.geeksforgeeks.org/fundamentals-of-algorithms/?ref=footer\n",
      "https://www.geeksforgeeks.org/data-structures/?ref=footer\n",
      "https://www.geeksforgeeks.org/gfg-sde-sheet-a-complete-guide-for-sde-preparation/?ref=footer\n",
      "https://www.geeksforgeeks.org/machine-learning/?ref=footer\n",
      "https://www.geeksforgeeks.org/articles-on-computer-science-subjects-gq/?ref=footer\n",
      "https://www.geeksforgeeks.org/videos/?ref=footer\n",
      "https://practice.geeksforgeeks.org/courses/?ref=footer\n",
      "https://news.geeksforgeeks.org/?ref=footer\n",
      "https://news.geeksforgeeks.org/top?ref=footer\n",
      "https://news.geeksforgeeks.org/technology?ref=footer\n",
      "https://news.geeksforgeeks.org/work-career?ref=footer\n",
      "https://news.geeksforgeeks.org/business?ref=footer\n",
      "https://news.geeksforgeeks.org/finance?ref=footer\n",
      "https://news.geeksforgeeks.org/lifestyle?ref=footer\n",
      "https://news.geeksforgeeks.org/knowledge?ref=footer\n",
      "https://www.geeksforgeeks.org/python-programming-language/?ref=footer\n",
      "https://www.geeksforgeeks.org/java/?ref=footer\n",
      "https://www.geeksforgeeks.org/c-plus-plus/?ref=footer\n",
      "https://www.geeksforgeeks.org/golang/?ref=footer\n",
      "https://www.geeksforgeeks.org/csharp-programming-language/?ref=footer\n",
      "https://www.geeksforgeeks.org/sql-tutorial/?ref=footer\n",
      "https://www.geeksforgeeks.org/kotlin-programming-language/?ref=footer\n",
      "https://www.geeksforgeeks.org/web-development/?ref=footer\n",
      "https://www.geeksforgeeks.org/django-tutorial/?ref=footer\n",
      "https://www.geeksforgeeks.org/html-tutorials/?ref=footer\n",
      "https://www.geeksforgeeks.org/javascript-tutorial/?ref=footer\n",
      "https://www.geeksforgeeks.org/bootstrap-tutorials/?ref=footer\n",
      "https://www.geeksforgeeks.org/reactjs-tutorials/?ref=footer\n",
      "https://www.geeksforgeeks.org/nodejs/?ref=footer\n",
      "https://www.geeksforgeeks.org/contribute/?ref=footer\n",
      "https://www.geeksforgeeks.org/how-to-improve-an-article/?ref=footer\n",
      "https://write.geeksforgeeks.org/pick-article?ref=footer\n",
      "https://www.geeksforgeeks.org/write-interview-experience/?ref=footer\n",
      "https://www.geeksforgeeks.org/careers/?job_type=1&ref=footer\n",
      "https://script.geeksforgeeks.org/on-boarding/youtube?ref=footer\n",
      "https://www.geeksforgeeks.org/\n",
      "https://www.geeksforgeeks.org/copyright-information/\n",
      "https://www.geeksforgeeks.org/cookie-policy/\n",
      "https://www.geeksforgeeks.org/privacy-policy/\n"
     ]
    }
   ],
   "source": [
    "reqs = requests.get('https://www.geeksforgeeks.org/')\n",
    "soup = BeautifulSoup(reqs.text, 'html.parser')\n",
    "urls = []\n",
    "urls = []\n",
    "for link in soup.find_all('a'):\n",
    "    if link.get('href')[0:4] != 'http':\n",
    "        pass\n",
    "    else:\n",
    "        print(link.get('href'))"
   ]
  },
  {
   "cell_type": "code",
   "execution_count": 52,
   "id": "36ea3b1e-b76b-4d22-bdda-01d409435c62",
   "metadata": {},
   "outputs": [
    {
     "data": {
      "text/plain": [
       "\u001b[0;31mSignature:\u001b[0m\n",
       "\u001b[0msoup\u001b[0m\u001b[0;34m.\u001b[0m\u001b[0mfind_all\u001b[0m\u001b[0;34m(\u001b[0m\u001b[0;34m\u001b[0m\n",
       "\u001b[0;34m\u001b[0m    \u001b[0mname\u001b[0m\u001b[0;34m=\u001b[0m\u001b[0;32mNone\u001b[0m\u001b[0;34m,\u001b[0m\u001b[0;34m\u001b[0m\n",
       "\u001b[0;34m\u001b[0m    \u001b[0mattrs\u001b[0m\u001b[0;34m=\u001b[0m\u001b[0;34m{\u001b[0m\u001b[0;34m}\u001b[0m\u001b[0;34m,\u001b[0m\u001b[0;34m\u001b[0m\n",
       "\u001b[0;34m\u001b[0m    \u001b[0mrecursive\u001b[0m\u001b[0;34m=\u001b[0m\u001b[0;32mTrue\u001b[0m\u001b[0;34m,\u001b[0m\u001b[0;34m\u001b[0m\n",
       "\u001b[0;34m\u001b[0m    \u001b[0mstring\u001b[0m\u001b[0;34m=\u001b[0m\u001b[0;32mNone\u001b[0m\u001b[0;34m,\u001b[0m\u001b[0;34m\u001b[0m\n",
       "\u001b[0;34m\u001b[0m    \u001b[0mlimit\u001b[0m\u001b[0;34m=\u001b[0m\u001b[0;32mNone\u001b[0m\u001b[0;34m,\u001b[0m\u001b[0;34m\u001b[0m\n",
       "\u001b[0;34m\u001b[0m    \u001b[0;34m**\u001b[0m\u001b[0mkwargs\u001b[0m\u001b[0;34m,\u001b[0m\u001b[0;34m\u001b[0m\n",
       "\u001b[0;34m\u001b[0m\u001b[0;34m)\u001b[0m\u001b[0;34m\u001b[0m\u001b[0;34m\u001b[0m\u001b[0m\n",
       "\u001b[0;31mDocstring:\u001b[0m\n",
       "Look in the children of this PageElement and find all\n",
       "PageElements that match the given criteria.\n",
       "\n",
       "All find_* methods take a common set of arguments. See the online\n",
       "documentation for detailed explanations.\n",
       "\n",
       ":param name: A filter on tag name.\n",
       ":param attrs: A dictionary of filters on attribute values.\n",
       ":param recursive: If this is True, find_all() will perform a\n",
       "    recursive search of this PageElement's children. Otherwise,\n",
       "    only the direct children will be considered.\n",
       ":param limit: Stop looking after finding this many results.\n",
       ":kwargs: A dictionary of filters on attribute values.\n",
       ":return: A ResultSet of PageElements.\n",
       ":rtype: bs4.element.ResultSet\n",
       "\u001b[0;31mFile:\u001b[0m      /opt/conda/lib/python3.10/site-packages/bs4/element.py\n",
       "\u001b[0;31mType:\u001b[0m      method\n"
      ]
     },
     "metadata": {},
     "output_type": "display_data"
    }
   ],
   "source": [
    "?soup.find_all"
   ]
  },
  {
   "cell_type": "code",
   "execution_count": null,
   "id": "e0748bed-3249-4003-8c26-a7a336d87288",
   "metadata": {},
   "outputs": [],
   "source": []
  }
 ],
 "metadata": {
  "kernelspec": {
   "display_name": "Python 3 (ipykernel)",
   "language": "python",
   "name": "python3"
  },
  "language_info": {
   "codemirror_mode": {
    "name": "ipython",
    "version": 3
   },
   "file_extension": ".py",
   "mimetype": "text/x-python",
   "name": "python",
   "nbconvert_exporter": "python",
   "pygments_lexer": "ipython3",
   "version": "3.10.6"
  }
 },
 "nbformat": 4,
 "nbformat_minor": 5
}
