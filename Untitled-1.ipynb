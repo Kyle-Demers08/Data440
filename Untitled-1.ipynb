{
 "cells": [
  {
   "cell_type": "code",
   "execution_count": null,
   "metadata": {},
   "outputs": [],
   "source": [
    "import subprocess\n",
    "import json\n",
    "lines = open('what.txt', 'r')\n",
    "lines = lines.readlines()\n",
    "print(lines)\n",
    "with open(\"timemap.jsonl\", \"a+\") as outfile: #create a place to store timemaps\n",
    "    for line in lines:\n",
    "        print(line[2:-2]) #print which url we are on\n",
    "        test = line[2:-2] #index relevant url\n",
    "        result = subprocess.run(['.\\memgator-windows-386.exe', '--format=json', test], capture_output=True, text = True) #run memgator for each url\n",
    "        x = result.stdout\n",
    "        if len(x) > 0: #if memgator returns something\n",
    "            mydict = json.loads(x) #read as a dictionary\n",
    "            json.dump(mydict['mementos'],outfile) #store timemap in json\n",
    "            json.dump('\\n',outfile)"
   ]
  }
 ],
 "metadata": {
  "kernelspec": {
   "display_name": "Python 3.8.3 ('base')",
   "language": "python",
   "name": "python3"
  },
  "language_info": {
   "name": "python",
   "version": "3.8.3"
  },
  "orig_nbformat": 4,
  "vscode": {
   "interpreter": {
    "hash": "522a26763b9c06b14788fab104975edbfc7dc1766d2c51296083287f3b4c81e6"
   }
  }
 },
 "nbformat": 4,
 "nbformat_minor": 2
}
