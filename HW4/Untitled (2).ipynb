{
 "cells": [
  {
   "cell_type": "code",
   "execution_count": 10,
   "id": "0c85465a-26a5-4626-bc10-963276cd3253",
   "metadata": {},
   "outputs": [],
   "source": [
    "#import modules\n",
    "import pandas as pd\n",
    "import numpy as np\n",
    "import matplotlib.pyplot as plt"
   ]
  },
  {
   "cell_type": "code",
   "execution_count": 2,
   "id": "98f2769c-8a0d-4f50-bcf6-83701ffb8cd9",
   "metadata": {},
   "outputs": [],
   "source": [
    "df = pd.read_csv('acnwala_friends_friends_count.csv')"
   ]
  },
  {
   "cell_type": "code",
   "execution_count": 3,
   "id": "c2d068f0-d64d-465d-b9c9-8f2ebe47e24d",
   "metadata": {},
   "outputs": [],
   "source": [
    "df.rename(columns={'USER': 'name', ' \"FRIENDCOUNT\"': 'counts'}, inplace=True)"
   ]
  },
  {
   "cell_type": "code",
   "execution_count": 4,
   "id": "4ae11a71-1fca-4510-833a-daa7855c796a",
   "metadata": {},
   "outputs": [
    {
     "data": {
      "text/html": [
       "<div>\n",
       "<style scoped>\n",
       "    .dataframe tbody tr th:only-of-type {\n",
       "        vertical-align: middle;\n",
       "    }\n",
       "\n",
       "    .dataframe tbody tr th {\n",
       "        vertical-align: top;\n",
       "    }\n",
       "\n",
       "    .dataframe thead th {\n",
       "        text-align: right;\n",
       "    }\n",
       "</style>\n",
       "<table border=\"1\" class=\"dataframe\">\n",
       "  <thead>\n",
       "    <tr style=\"text-align: right;\">\n",
       "      <th></th>\n",
       "      <th>name</th>\n",
       "      <th>counts</th>\n",
       "    </tr>\n",
       "  </thead>\n",
       "  <tbody>\n",
       "    <tr>\n",
       "      <th>0</th>\n",
       "      <td>Uloma Faith Nwala</td>\n",
       "      <td>482</td>\n",
       "    </tr>\n",
       "    <tr>\n",
       "      <th>1</th>\n",
       "      <td>Chima Emmanuel Nwala</td>\n",
       "      <td>357</td>\n",
       "    </tr>\n",
       "  </tbody>\n",
       "</table>\n",
       "</div>"
      ],
      "text/plain": [
       "                   name  counts\n",
       "0     Uloma Faith Nwala     482\n",
       "1  Chima Emmanuel Nwala     357"
      ]
     },
     "execution_count": 4,
     "metadata": {},
     "output_type": "execute_result"
    }
   ],
   "source": [
    "df.head(2)"
   ]
  },
  {
   "cell_type": "markdown",
   "id": "21713427-c482-41e1-9ac0-b421c9bd3955",
   "metadata": {},
   "source": [
    "### Find mean, standard deviation, median"
   ]
  },
  {
   "cell_type": "code",
   "execution_count": 5,
   "id": "b5384899-6062-4935-b150-2910cea7c8d1",
   "metadata": {},
   "outputs": [
    {
     "name": "stdout",
     "output_type": "stream",
     "text": [
      "the mean followers of your friends followers: 542.67\n"
     ]
    }
   ],
   "source": [
    "#finding the mean\n",
    "print('the mean followers of your friends followers: ' + str(\"{:.2f}\".format(np.mean(df['counts']))))"
   ]
  },
  {
   "cell_type": "code",
   "execution_count": 6,
   "id": "ad7d5579-1ca3-4871-9782-ef730cd49f20",
   "metadata": {},
   "outputs": [
    {
     "name": "stdout",
     "output_type": "stream",
     "text": [
      "the standard deviation of your friends followers: 536.67\n"
     ]
    }
   ],
   "source": [
    "#Finding the standard deviation\n",
    "print('the standard deviation of your friends followers: ' + str(\"{:.2f}\".format(np.std(df['counts']))))"
   ]
  },
  {
   "cell_type": "code",
   "execution_count": 7,
   "id": "9ff31024-c0c0-4f38-ad80-95cc8c876080",
   "metadata": {},
   "outputs": [
    {
     "name": "stdout",
     "output_type": "stream",
     "text": [
      "the median of your friends followers: 396.00\n"
     ]
    }
   ],
   "source": [
    "#Finding the median\n",
    "print('the median of your friends followers: ' + str(\"{:.2f}\".format(np.median(df['counts']))))"
   ]
  },
  {
   "cell_type": "code",
   "execution_count": 8,
   "id": "da0fb0e9-9c8b-418e-8da5-87bf4a7ecc39",
   "metadata": {},
   "outputs": [
    {
     "name": "stdout",
     "output_type": "stream",
     "text": [
      "You have 98 friends.\n"
     ]
    }
   ],
   "source": [
    "#Friend count of you\n",
    "print('You have ' + str(len(df['counts'])) + ' friends.')"
   ]
  },
  {
   "cell_type": "markdown",
   "id": "57bad4d0-203e-4b45-8977-db65a0c3098d",
   "metadata": {},
   "source": [
    "### Preparing the data Frame to plot"
   ]
  },
  {
   "cell_type": "code",
   "execution_count": 9,
   "id": "73dbb4f4-4457-42f9-987f-552b59e080fc",
   "metadata": {},
   "outputs": [],
   "source": [
    "df.sort_values(by = 'counts',\n",
    "               axis = 0,\n",
    "               ascending = False,\n",
    "               inplace = True,\n",
    "               ignore_index = True)"
   ]
  },
  {
   "cell_type": "code",
   "execution_count": 10,
   "id": "7aefa0bb-7ff9-47bd-8847-6874062a560d",
   "metadata": {},
   "outputs": [
    {
     "data": {
      "text/html": [
       "<div>\n",
       "<style scoped>\n",
       "    .dataframe tbody tr th:only-of-type {\n",
       "        vertical-align: middle;\n",
       "    }\n",
       "\n",
       "    .dataframe tbody tr th {\n",
       "        vertical-align: top;\n",
       "    }\n",
       "\n",
       "    .dataframe thead th {\n",
       "        text-align: right;\n",
       "    }\n",
       "</style>\n",
       "<table border=\"1\" class=\"dataframe\">\n",
       "  <thead>\n",
       "    <tr style=\"text-align: right;\">\n",
       "      <th></th>\n",
       "      <th>name</th>\n",
       "      <th>counts</th>\n",
       "    </tr>\n",
       "  </thead>\n",
       "  <tbody>\n",
       "    <tr>\n",
       "      <th>0</th>\n",
       "      <td>Kurnia Foe</td>\n",
       "      <td>3955</td>\n",
       "    </tr>\n",
       "    <tr>\n",
       "      <th>1</th>\n",
       "      <td>Tibidabo A. Peters</td>\n",
       "      <td>2143</td>\n",
       "    </tr>\n",
       "    <tr>\n",
       "      <th>2</th>\n",
       "      <td>Steve Chinonso Walker</td>\n",
       "      <td>1931</td>\n",
       "    </tr>\n",
       "    <tr>\n",
       "      <th>3</th>\n",
       "      <td>Ekene Samuel Okereke</td>\n",
       "      <td>1757</td>\n",
       "    </tr>\n",
       "    <tr>\n",
       "      <th>4</th>\n",
       "      <td>Justin M Deloatch</td>\n",
       "      <td>1559</td>\n",
       "    </tr>\n",
       "    <tr>\n",
       "      <th>...</th>\n",
       "      <td>...</td>\n",
       "      <td>...</td>\n",
       "    </tr>\n",
       "    <tr>\n",
       "      <th>93</th>\n",
       "      <td>Eric Akers</td>\n",
       "      <td>51</td>\n",
       "    </tr>\n",
       "    <tr>\n",
       "      <th>94</th>\n",
       "      <td>Ernst Wilson</td>\n",
       "      <td>48</td>\n",
       "    </tr>\n",
       "    <tr>\n",
       "      <th>95</th>\n",
       "      <td>Chukwuemeka Udeh</td>\n",
       "      <td>40</td>\n",
       "    </tr>\n",
       "    <tr>\n",
       "      <th>96</th>\n",
       "      <td>Osakpolo Udeh</td>\n",
       "      <td>20</td>\n",
       "    </tr>\n",
       "    <tr>\n",
       "      <th>97</th>\n",
       "      <td>Sharon Owens</td>\n",
       "      <td>1</td>\n",
       "    </tr>\n",
       "  </tbody>\n",
       "</table>\n",
       "<p>98 rows × 2 columns</p>\n",
       "</div>"
      ],
      "text/plain": [
       "                     name  counts\n",
       "0              Kurnia Foe    3955\n",
       "1      Tibidabo A. Peters    2143\n",
       "2   Steve Chinonso Walker    1931\n",
       "3    Ekene Samuel Okereke    1757\n",
       "4       Justin M Deloatch    1559\n",
       "..                    ...     ...\n",
       "93             Eric Akers      51\n",
       "94           Ernst Wilson      48\n",
       "95       Chukwuemeka Udeh      40\n",
       "96          Osakpolo Udeh      20\n",
       "97           Sharon Owens       1\n",
       "\n",
       "[98 rows x 2 columns]"
      ]
     },
     "execution_count": 10,
     "metadata": {},
     "output_type": "execute_result"
    }
   ],
   "source": [
    "df"
   ]
  },
  {
   "cell_type": "code",
   "execution_count": 12,
   "id": "1fb15b4d-7419-4f9b-bdb0-9521ba53314d",
   "metadata": {},
   "outputs": [
    {
     "data": {
      "text/plain": [
       "array([ 1,  2,  3,  4,  5,  6,  7,  8,  9, 10, 11, 12, 13, 14, 15, 16, 17,\n",
       "       18, 19, 20, 21, 22, 23, 24, 25, 26, 27, 28, 29, 30, 31, 32, 33, 34,\n",
       "       35, 36, 37, 38, 39, 40, 41, 42, 43, 44, 45, 46, 47, 48, 49, 50, 51,\n",
       "       52, 53, 54, 55, 56, 57, 58, 59, 60, 61, 62, 63, 64, 65, 66, 67, 68,\n",
       "       69, 70, 71, 72, 73, 74, 75, 76, 77, 78, 79, 80, 81, 82, 83, 84, 85,\n",
       "       86, 87, 88, 89, 90, 91, 92, 93, 94, 95, 96, 97, 98])"
      ]
     },
     "execution_count": 12,
     "metadata": {},
     "output_type": "execute_result"
    }
   ],
   "source": [
    "x = np.arange(1,len(df['counts'])+1)"
   ]
  },
  {
   "cell_type": "markdown",
   "id": "b9e5cbe0-a4a8-47ea-9c47-906d96077209",
   "metadata": {},
   "source": [
    "Prof. Nwala's Facebook info: friends = 98"
   ]
  },
  {
   "cell_type": "code",
   "execution_count": 42,
   "id": "953ba93b-b8d1-4287-b1bc-4b051f8fa4f2",
   "metadata": {},
   "outputs": [
    {
     "data": {
      "text/html": [
       "<div>\n",
       "<style scoped>\n",
       "    .dataframe tbody tr th:only-of-type {\n",
       "        vertical-align: middle;\n",
       "    }\n",
       "\n",
       "    .dataframe tbody tr th {\n",
       "        vertical-align: top;\n",
       "    }\n",
       "\n",
       "    .dataframe thead th {\n",
       "        text-align: right;\n",
       "    }\n",
       "</style>\n",
       "<table border=\"1\" class=\"dataframe\">\n",
       "  <thead>\n",
       "    <tr style=\"text-align: right;\">\n",
       "      <th></th>\n",
       "      <th>name</th>\n",
       "      <th>counts</th>\n",
       "    </tr>\n",
       "  </thead>\n",
       "  <tbody>\n",
       "    <tr>\n",
       "      <th>0</th>\n",
       "      <td>Kurnia Foe</td>\n",
       "      <td>3955</td>\n",
       "    </tr>\n",
       "    <tr>\n",
       "      <th>1</th>\n",
       "      <td>Tibidabo A. Peters</td>\n",
       "      <td>2143</td>\n",
       "    </tr>\n",
       "    <tr>\n",
       "      <th>2</th>\n",
       "      <td>Steve Chinonso Walker</td>\n",
       "      <td>1931</td>\n",
       "    </tr>\n",
       "    <tr>\n",
       "      <th>3</th>\n",
       "      <td>Ekene Samuel Okereke</td>\n",
       "      <td>1757</td>\n",
       "    </tr>\n",
       "    <tr>\n",
       "      <th>4</th>\n",
       "      <td>Justin M Deloatch</td>\n",
       "      <td>1559</td>\n",
       "    </tr>\n",
       "    <tr>\n",
       "      <th>...</th>\n",
       "      <td>...</td>\n",
       "      <td>...</td>\n",
       "    </tr>\n",
       "    <tr>\n",
       "      <th>83</th>\n",
       "      <td>Alex Dohrn</td>\n",
       "      <td>139</td>\n",
       "    </tr>\n",
       "    <tr>\n",
       "      <th>84</th>\n",
       "      <td>Dennis Tuburu</td>\n",
       "      <td>135</td>\n",
       "    </tr>\n",
       "    <tr>\n",
       "      <th>85</th>\n",
       "      <td>Shelby Thomas</td>\n",
       "      <td>127</td>\n",
       "    </tr>\n",
       "    <tr>\n",
       "      <th>86</th>\n",
       "      <td>Lovelyn Chigozilem Godknows</td>\n",
       "      <td>122</td>\n",
       "    </tr>\n",
       "    <tr>\n",
       "      <th>87</th>\n",
       "      <td>Ramesh Raj</td>\n",
       "      <td>108</td>\n",
       "    </tr>\n",
       "  </tbody>\n",
       "</table>\n",
       "<p>88 rows × 2 columns</p>\n",
       "</div>"
      ],
      "text/plain": [
       "                           name  counts\n",
       "0                    Kurnia Foe    3955\n",
       "1            Tibidabo A. Peters    2143\n",
       "2         Steve Chinonso Walker    1931\n",
       "3          Ekene Samuel Okereke    1757\n",
       "4             Justin M Deloatch    1559\n",
       "..                          ...     ...\n",
       "83                   Alex Dohrn     139\n",
       "84                Dennis Tuburu     135\n",
       "85                Shelby Thomas     127\n",
       "86  Lovelyn Chigozilem Godknows     122\n",
       "87                   Ramesh Raj     108\n",
       "\n",
       "[88 rows x 2 columns]"
      ]
     },
     "execution_count": 42,
     "metadata": {},
     "output_type": "execute_result"
    }
   ],
   "source": [
    "df.loc[df['counts']> 98]"
   ]
  },
  {
   "cell_type": "code",
   "execution_count": 46,
   "id": "82152b92-8c8c-4eed-bca8-0775d1c1c6a7",
   "metadata": {},
   "outputs": [
    {
     "data": {
      "image/png": "[encoded data removed]",
      "text/plain": [
       "<Figure size 900x600 with 1 Axes>"
      ]
     },
     "metadata": {},
     "output_type": "display_data"
    }
   ],
   "source": [
    "fig, ax = plt.subplots(figsize = (9,6 ))\n",
    "ax.scatter(x,df['counts'], alpha=0.5, edgecolors=\"k\") #plot with .5 transparency\n",
    "# label axes\n",
    "ax.set_ylabel(\"Followers\")\n",
    "ax.set_xlabel('Person (sorted high to low)')\n",
    "#remove weird tick marks\n",
    "ax.set_yticks([],minor = True)\n",
    "#plot user point\n",
    "plt.plot(88.5, 98, marker = 'o', c = 'red')\n",
    "#label \n",
    "plt.annotate('U',[88,170])\n",
    "plt.show()"
   ]
  },
  {
   "cell_type": "markdown",
   "id": "3f3accfa-795f-4210-9844-a6278c19e3a8",
   "metadata": {},
   "source": [
    "The friendship paradox holds for this user"
   ]
  },
  {
   "cell_type": "markdown",
   "id": "1fbf6072-45dc-4003-9bb8-c3ff91c2a835",
   "metadata": {},
   "source": [
    "https://www.tutorialspoint.com/how-to-plot-additional-points-on-the-top-of-a-scatter-plot-in-matplotlib\n",
    "https://matplotlib.org/stable/api/_as_gen/matplotlib.pyplot.annotate.html"
   ]
  },
  {
   "cell_type": "markdown",
   "id": "51f7f711-2068-4f8c-8134-be7c0e3abf69",
   "metadata": {},
   "source": [
    "### Facebook Data"
   ]
  },
  {
   "cell_type": "code",
   "execution_count": 1,
   "id": "775db449-302d-4bfc-8d72-ed47295f0198",
   "metadata": {},
   "outputs": [],
   "source": [
    "follower_counts = ['865', '1301', '432', '100', '122', '228', '186', '519', '3072', '19', '150', '888', '890', '1187', '251', '47', '489', '5', '1755', '516', '121', '188', '4', '28', '160', '48', '0', '77', '11', '32', '29', '32', '44', '63', '104', '5', '1401', '108', '10', '32', '1328', '135', '6680', '256', '1059', '329', '2956', '3', '4932', '2100', '1952', '1260', '191', '400', '89', '646', '866', '2484', '236', '161', '4793', '351', '102', '86', '1629', '122', '18', '1062', '30', '63', '354', '64', '1595', '1701', '147', '43', '7', '80', '3014', '27', '101', '114', '55', '38', '201', '2223', '50', '264', '23', '8225', '180', '6', '343', '205', '28', '0', '80', '129', '13535', '113', '50', '12072', '296', '237', '6005', '3703', '47', '547', '42522', '307', '18', '96', '70', '7', '8', '198', '16', '400', '630', '1984', '116', '987', '209', '432', '136', '702', '827', '72', '131', '43', '304', '228', '773', '170', '102', '23', '28', '888', '134', '2150', '467', '1158', '935', '3', '198', '168', '2225', '486', '763', '822', '247', '361', '160', '67', '5457', '89', '143', '533', '60', '356', '6998', '56', '67', '144', '61', '36', '252', '1012', '645', '242', '79', '651', '47904', '749', '10', '164', '26', '161', '31', '1150', '10', '14', '16', '9', '3199', '1365', '268', '87', '9', '13', '112', '62', '485', '265', '3647', '1575', '171', '6', '117', '36', '570', '164', '177', '2098', '508', '3552', '292', '256', '2016', '1735', '10', '157', '52', '0', '351', '420', '9', '477', '2', '204', '183', '181', '124', '331', '98', '525', '45', '1083', '252', '214', '130', '3789', '503', '180', '748', '910', '623', '3447', '250', '623', '805', '1815', '39', '22', '12942', '1383', '4336', '4', '2135', '8150', '202', '34', '306', '61', '5', '665', '1148', '1058', '38', '2835', '254', '564', '92', '3', '887', '1459', '5963', '1503', '987', '121', '253', '234', '6', '53', '638', '22', '1178', '227', '128', '1522', '145', '397', '56', '581', '684', '2435', '432', '355', '1223', '870', '227', '418', '50', '510', '445', '1722', '12891', '773', '932', '127', '5', '3', '15', '402', '268', '462', '6', '143', '1092', '1316', '1549', '3', '5254', '0', '1094', '152', '118', '851', '1572', '9', '7', '2722', '199', '516', '1224', '276', '102', '338', '647', '547', '127', '71', '61', '5', '1056', '3360', '153', '170', '569', '363', '1239', '290', '957', '184', '783', '128', '1127', '4', '965', '10922', '46231', '109', '3322', '588', '10613', '1997', '11114', '2902', '27', '60', '18013', '3', '651', '5001', '672', '74', '10', '1081', '325', '538', '40', '3', '204', '15', '4629', '857', '13', '6800', '3166', '12', '8', '2854', '468', '1889', '3554', '1021', '39', '16', '7021', '1283', '4703', '50', '69', '166', '2861', '1160', '1008', '99', '2060', '5797', '2245', '247', '1284', '220', '2452', '4140', '109', '596', '2136', '295', '1912', '391', '744', '2640', '2577', '459', '184', '9', '214', '181', '14', '2460', '2046', '546', '50214', '2317', '214', '173', '77', '18', '31', '261', '146', '324', '945', '1613', '245', '3730', '1204', '2939', '328', '30', '30', '5778', '1461', '13', '30', '3', '735', '112', '156', '34', '654', '362', '865', '56', '239', '68', '439', '200', '743']"
   ]
  },
  {
   "cell_type": "code",
   "execution_count": 4,
   "id": "0c977a28-c2a4-47af-be6f-872d30795ef8",
   "metadata": {},
   "outputs": [],
   "source": [
    "#convert follower_counts items into integers\n",
    "follower_counts = [int(i) for i in follower_counts]"
   ]
  },
  {
   "cell_type": "code",
   "execution_count": 8,
   "id": "fd77d5ca-36d7-41b6-ac3e-f1ab9770cee4",
   "metadata": {},
   "outputs": [
    {
     "data": {
      "text/plain": [
       "461"
      ]
     },
     "execution_count": 8,
     "metadata": {},
     "output_type": "execute_result"
    }
   ],
   "source": [
    "#Make sure the follower count alligns to twitter account acnwala\n",
    "len(follower_counts)"
   ]
  },
  {
   "cell_type": "markdown",
   "id": "26d46fee-02d0-4da9-8765-07712244dc29",
   "metadata": {},
   "source": [
    "### Find mean, standard deviation, median"
   ]
  },
  {
   "cell_type": "code",
   "execution_count": 11,
   "id": "6a4a4dab-7cb6-446a-a666-fbd1f56dbd73",
   "metadata": {},
   "outputs": [
    {
     "name": "stdout",
     "output_type": "stream",
     "text": [
      "the mean followers of your friends followers: 1429.94\n"
     ]
    }
   ],
   "source": [
    "print('the mean followers of your friends followers: ' + str(\"{:.2f}\".format(np.mean(follower_counts))))"
   ]
  },
  {
   "cell_type": "code",
   "execution_count": 12,
   "id": "cce1f1c8-60b0-48dd-bbba-4f9c648e52dd",
   "metadata": {},
   "outputs": [
    {
     "name": "stdout",
     "output_type": "stream",
     "text": [
      "the standard deviation of your friends followers: 4722.65\n"
     ]
    }
   ],
   "source": [
    "#Finding the standard deviation\n",
    "print('the standard deviation of your friends followers: ' + str(\"{:.2f}\".format(np.std(follower_counts))))"
   ]
  },
  {
   "cell_type": "code",
   "execution_count": 13,
   "id": "7c933b82-cb31-40ee-9461-c8672db6aff8",
   "metadata": {},
   "outputs": [
    {
     "name": "stdout",
     "output_type": "stream",
     "text": [
      "the median of your friends followers: 256.00\n"
     ]
    }
   ],
   "source": [
    "#Finding the median\n",
    "print('the median of your friends followers: ' + str(\"{:.2f}\".format(np.median(follower_counts))))"
   ]
  },
  {
   "cell_type": "code",
   "execution_count": 23,
   "id": "abeaa1c3-7fd7-447d-88d8-174c7b68d9e3",
   "metadata": {},
   "outputs": [],
   "source": [
    "#sort for plotting\n",
    "follower_counts.sort(reverse = True)"
   ]
  },
  {
   "cell_type": "code",
   "execution_count": 41,
   "id": "ce54141e-233c-446c-a010-5e1c518a400c",
   "metadata": {},
   "outputs": [
    {
     "data": {
      "image/png": "[encoded data removed]",
      "text/plain": [
       "<Figure size 900x600 with 1 Axes>"
      ]
     },
     "metadata": {},
     "output_type": "display_data"
    }
   ],
   "source": [
    "fig, ax = plt.subplots(figsize = (9,6 ))\n",
    "x = np.arange(1,len(follower_counts)+1)\n",
    "ax.scatter(x,follower_counts, alpha=0.5, edgecolors=\"k\") #plot with .5 transparency\n",
    "# label axes\n",
    "ax.set_ylabel(\"Followers\")\n",
    "ax.set_xlabel('Person (sorted high to low)')\n",
    "#remove weird tick marks\n",
    "ax.set_yticks([],minor = True)\n",
    "#plot user point\n",
    "plt.plot(189.5, 461, marker = 'o', c = 'red')\n",
    "#label \n",
    "plt.annotate('U',[186,1500])\n",
    "plt.show()"
   ]
  },
  {
   "cell_type": "markdown",
   "id": "d2f406c4-1078-445a-8b6e-5742b9ddcf55",
   "metadata": {},
   "source": [
    "Find where to plot \"U\""
   ]
  },
  {
   "cell_type": "code",
   "execution_count": 34,
   "id": "7d06df99-f593-4fff-aa07-689e14fe3015",
   "metadata": {},
   "outputs": [
    {
     "data": {
      "text/html": [
       "<div>\n",
       "<style scoped>\n",
       "    .dataframe tbody tr th:only-of-type {\n",
       "        vertical-align: middle;\n",
       "    }\n",
       "\n",
       "    .dataframe tbody tr th {\n",
       "        vertical-align: top;\n",
       "    }\n",
       "\n",
       "    .dataframe thead th {\n",
       "        text-align: right;\n",
       "    }\n",
       "</style>\n",
       "<table border=\"1\" class=\"dataframe\">\n",
       "  <thead>\n",
       "    <tr style=\"text-align: right;\">\n",
       "      <th></th>\n",
       "      <th>0</th>\n",
       "    </tr>\n",
       "  </thead>\n",
       "  <tbody>\n",
       "    <tr>\n",
       "      <th>0</th>\n",
       "      <td>50214</td>\n",
       "    </tr>\n",
       "    <tr>\n",
       "      <th>1</th>\n",
       "      <td>47904</td>\n",
       "    </tr>\n",
       "    <tr>\n",
       "      <th>2</th>\n",
       "      <td>46231</td>\n",
       "    </tr>\n",
       "    <tr>\n",
       "      <th>3</th>\n",
       "      <td>42522</td>\n",
       "    </tr>\n",
       "    <tr>\n",
       "      <th>4</th>\n",
       "      <td>18013</td>\n",
       "    </tr>\n",
       "    <tr>\n",
       "      <th>...</th>\n",
       "      <td>...</td>\n",
       "    </tr>\n",
       "    <tr>\n",
       "      <th>184</th>\n",
       "      <td>485</td>\n",
       "    </tr>\n",
       "    <tr>\n",
       "      <th>185</th>\n",
       "      <td>477</td>\n",
       "    </tr>\n",
       "    <tr>\n",
       "      <th>186</th>\n",
       "      <td>468</td>\n",
       "    </tr>\n",
       "    <tr>\n",
       "      <th>187</th>\n",
       "      <td>467</td>\n",
       "    </tr>\n",
       "    <tr>\n",
       "      <th>188</th>\n",
       "      <td>462</td>\n",
       "    </tr>\n",
       "  </tbody>\n",
       "</table>\n",
       "<p>189 rows × 1 columns</p>\n",
       "</div>"
      ],
      "text/plain": [
       "         0\n",
       "0    50214\n",
       "1    47904\n",
       "2    46231\n",
       "3    42522\n",
       "4    18013\n",
       "..     ...\n",
       "184    485\n",
       "185    477\n",
       "186    468\n",
       "187    467\n",
       "188    462\n",
       "\n",
       "[189 rows x 1 columns]"
      ]
     },
     "execution_count": 34,
     "metadata": {},
     "output_type": "execute_result"
    }
   ],
   "source": [
    "#find your rank amongst your friends\n",
    "df.loc[df[0] > 461]"
   ]
  },
  {
   "cell_type": "code",
   "execution_count": null,
   "id": "f26c505a-9c0f-4610-9c07-17e754bf79d6",
   "metadata": {},
   "outputs": [],
   "source": []
  }
 ],
 "metadata": {
  "kernelspec": {
   "display_name": "Python 3 (ipykernel)",
   "language": "python",
   "name": "python3"
  },
  "language_info": {
   "codemirror_mode": {
    "name": "ipython",
    "version": 3
   },
   "file_extension": ".py",
   "mimetype": "text/x-python",
   "name": "python",
   "nbconvert_exporter": "python",
   "pygments_lexer": "ipython3",
   "version": "3.10.6"
  }
 },
 "nbformat": 4,
 "nbformat_minor": 5
}
